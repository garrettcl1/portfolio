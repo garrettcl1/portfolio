{
  "cells": [
    {
      "cell_type": "markdown",
      "metadata": {
        "id": "view-in-github",
        "colab_type": "text"
      },
      "source": [
        "<a href=\"https://colab.research.google.com/github/garrettcl1/portfolio/blob/main/biological_database.ipynb\" target=\"_parent\"><img src=\"https://colab.research.google.com/assets/colab-badge.svg\" alt=\"Open In Colab\"/></a>"
      ]
    },
    {
      "cell_type": "markdown",
      "metadata": {
        "id": "QmInMPGcxD0h"
      },
      "source": [
        "# Overview and references\n",
        "\n",
        "You will search several remote biological databases for gene sequences, annotations, and relationships between genes. You will then import the data you’ve found into a database that you will design.\n",
        "\n",
        "\n",
        "For this lab, you will import data of a particular type (e.g., a gene sequence, annotation, or pathway) into an appropriated-designed table and perform table joins that link together the data you’ve retrieved.\n",
        "\n",
        "\n",
        "You are expected to keep a thorough record of everything you did in your notebook. Any data that you’ve pulled from a web browser should be noted in this notebook.\n",
        "\n",
        "### SQLite\n",
        "https://www.tutorialspoint.com/sqlite/index.htm https://docs.python.org/3/library/sqlite3.html\n",
        "\n",
        "### Relational Databases\n",
        "https://en.wikipedia.org/wiki/Relational_database https://mariadb.com/kb/en/library/relational-databases-basic-terms/ https://en.wikipedia.org/wiki/Associative_entity\n",
        "\n",
        "### BioPython\n",
        "https://biopython.org/DIST/docs/api/Bio.Entrez-module.html\n",
        "\n",
        "### Pandas\n",
        "https://pandas.pydata.org/pandas-docs/stable/index.html\n",
        "\n",
        "### Biological Databases\n",
        "https://genome.ucsc.edu/ https://www.ncbi.nlm.nih.gov/search/ https://reactome.org/ https://pfam.xfam.org/ https://www.genome.jp/kegg/\n",
        "\n",
        "### Capturing printed output\n",
        "If there is a very long printed statement that is not relevant for grading, you can capture it using python magic. Just put `%%capture` as the first line of any cell to capture it’s output. This will make your notebook easier to follow when grading\n",
        "\n",
        "# Background \n",
        "\n",
        "The lab you’re working in studies metabolism. Over the years, many students and post-docs have studied enzymes from organisms across the tree of life, from flies, worms, mice, and E. coli. Your PI wants you to build a database of these enzymes that future researchers in the lab can use going forward.\n",
        "\n",
        "\n",
        "# Database Design\n",
        "\n",
        "For this assignment, we’ll focus on three pathways: \n",
        "\n",
        "1. glycolysis\n",
        "2. the citric acid cycle\n",
        "3. the pentose phosphate pathway. \n",
        "\n",
        "We will consider genes in these pathways from \n",
        "\n",
        "1. Drosophila melanogaster\n",
        "2. Homo sapiens \n",
        "\n",
        "And we will construct the following tables:\n",
        "\n",
        "*Note: There is no requirement to answer the questions below, they are simply to get you thinking about the tables you'll create later in the lab.*\n",
        "\n",
        "**Pathway Table**. Should include at least name and description. What fields should be included to enable joins with other tables?\n",
        "\n",
        "**Enzyme Table**. Should include at least name, function, and enzyme commission (EC) number. What fields should be included to enable joins with other tables?\n",
        "\n",
        "**Gene Table**. Should include at least name, description, organism, and nucleotide sequence. What fields should be included to enable joins with other tables?\n",
        "\n",
        "# Visualization\n",
        "Pandas provides a useful python interface for working with data tables. In this lab, we will use pandas DataFrames for visualization only. The rest of the lab should have been completed using SQL (and python interface to it). Read your SQL tables using the [`pandas.read_sql`](https://pandas.pydata.org/docs/reference/api/pandas.read_sql.html) method."
      ]
    },
    {
      "cell_type": "markdown",
      "metadata": {
        "id": "u0y5xVILxD0j"
      },
      "source": [
        "# Part 1: Database/table creation\n",
        "\n",
        "\n",
        "Now try creating your database tables by using the function below. You might have to delete and re-create your database (the file) if mistakes are made and perform one final execution with the correct code.\n",
        "\n",
        "We have provided the `execute_sql_command()` function for you to use throughout the lab. The `CREATE TABLE` command can be executed like this :\n",
        "\n",
        "```python\n",
        "command = \"\"\"\n",
        "    CREATE TABLE <fill in your code>\n",
        "\"\"\"\n",
        "execute_sql_command(command)\n",
        "```"
      ]
    },
    {
      "cell_type": "code",
      "execution_count": null,
      "metadata": {
        "id": "uPcYN-1mxD0l"
      },
      "outputs": [],
      "source": [
        "import sqlite3\n",
        "def execute_sql_command(command: str, database_name: str = \"lab3.db\") -> None:\n",
        "    \"\"\"\n",
        "    Function to execute a SQL command from Python.\n",
        "    \n",
        "    Parameters\n",
        "    ----------\n",
        "    command: str\n",
        "        SQL command (use strings with three quotes on each side\n",
        "        so that it can be a multiline string\n",
        "    database_name: str\n",
        "        File name of the database (e.g, \"my.db\")\n",
        "    \n",
        "    Returns\n",
        "    -------\n",
        "    No return, executes the command\n",
        "    \"\"\"\n",
        "    \n",
        "    # will create if not present\n",
        "    conn = sqlite3.connect(database_name)\n",
        "    c = conn.cursor()\n",
        "    \n",
        "    c.execute(command)\n",
        "    # saves the changes\n",
        "    conn.commit()"
      ]
    },
    {
      "cell_type": "markdown",
      "metadata": {
        "id": "zLRzV1AtxD0m"
      },
      "source": [
        "### Part 1.1: Create pathways table"
      ]
    },
    {
      "cell_type": "code",
      "execution_count": null,
      "metadata": {
        "scrolled": true,
        "id": "6ovDxJU1xD0n"
      },
      "outputs": [],
      "source": [
        "\n",
        "command = \"\"\"\n",
        "    CREATE TABLE Pathway\n",
        "        (name TEXT,\n",
        "        description TEXT);\n",
        "\"\"\"\n",
        "execute_sql_command(command)\n",
        "\n"
      ]
    },
    {
      "cell_type": "markdown",
      "metadata": {
        "id": "2OJNSYYoxD0n"
      },
      "source": [
        "### Part 1.2: Create enzymes table"
      ]
    },
    {
      "cell_type": "code",
      "execution_count": null,
      "metadata": {
        "id": "axQvzqjoxD0o"
      },
      "outputs": [],
      "source": [
        "\n",
        "command = \"\"\"\n",
        "    CREATE TABLE Enzyme\n",
        "        (name TEXT,\n",
        "        function TEXT,\n",
        "        EC TEXT,\n",
        "        pathway TEXT);\n",
        "\"\"\"\n",
        "execute_sql_command(command)"
      ]
    },
    {
      "cell_type": "markdown",
      "metadata": {
        "id": "-hJv76HfxD0p"
      },
      "source": [
        "### Part 1.3: Create genes table"
      ]
    },
    {
      "cell_type": "code",
      "execution_count": null,
      "metadata": {
        "id": "hK7wccHqxD0p"
      },
      "outputs": [],
      "source": [
        "\n",
        "command = \"\"\"\n",
        "    CREATE TABLE Gene \n",
        "        (name TEXT,\n",
        "        description TEXT,\n",
        "        organism TEXT,\n",
        "        nucleotide sequence TEXT,\n",
        "        EC TEXT);\n",
        "\"\"\"\n",
        "execute_sql_command(command)"
      ]
    },
    {
      "cell_type": "markdown",
      "metadata": {
        "id": "gcSXQIwgxD0q"
      },
      "source": [
        "# Searching databases and compiling data\n",
        "\n",
        "A good place to start will be this map of glycolysis from KEGG: \n",
        "\n",
        "https://www.genome.jp/kegg-bin/show_pathway?map00010\n",
        "    \n",
        "There are a lot of genes in these pathways and how thoroughly you curate your database is up to you, but for the sake of time:\n",
        "\n",
        "1. Pick 4 enzymes from each of glycolysis, TCA cycle, and pentose phosphate. These enzymes should be relevant for both species. Look for \"change pathway type\" in the Kegg pathway map.\n",
        "2. Inspect information and sequences from Drosophila and human for those enzymes in KEGG database (no need to add anything in this notebook for this step, just inspect for yourself)."
      ]
    },
    {
      "cell_type": "markdown",
      "metadata": {
        "id": "53b8kuBYxD0r"
      },
      "source": [
        "# INSERTing your data into your database\n",
        "\n",
        "- In your pathways table, you should have a row per pathway (3 in total).\n",
        "- In your enzymes table, you should have one row per enzyme (12 in total).\n",
        "- In your gene table, you’ll be creating `4 enzymes * 3 pathways * 2 organisms = 24 rows`."
      ]
    },
    {
      "cell_type": "markdown",
      "metadata": {
        "id": "LAlA2j0NxD0r"
      },
      "source": [
        "# Part 2: populate pathways table\n",
        "For each pathway, insert a row into the database using the `INSERT` operation. Once you are done, print the contents of the table using `SELECT` and `pd.read_sql`."
      ]
    },
    {
      "cell_type": "code",
      "execution_count": null,
      "metadata": {
        "id": "E9qXSlqrxD0s",
        "outputId": "b252b18b-d55f-454f-eca6-8a8715dd7439"
      },
      "outputs": [
        {
          "name": "stdout",
          "output_type": "stream",
          "text": [
            "                        name  \\\n",
            "0                 glycolysis   \n",
            "1          citric acid cycle   \n",
            "2  pentose phosphate pathway   \n",
            "\n",
            "                                         description  \n",
            "0  the breakdown of glucose by enzymes, releasing...  \n",
            "1  the main source of energy for cells and an imp...  \n",
            "2  an alternative to glycolysis and generates NAD...  \n"
          ]
        }
      ],
      "source": [
        "command = \"\"\"\n",
        "    INSERT INTO Pathway\n",
        "        (name,\n",
        "        description)\n",
        "        VALUES\n",
        "        ('glycolysis',\n",
        "        'the breakdown of glucose by enzymes, releasing energy and pyruvic acid');\n",
        "\"\"\"\n",
        "execute_sql_command(command)\n",
        "        \n",
        "command = \"\"\"       \n",
        "    INSERT INTO Pathway\n",
        "        (name,\n",
        "        description)\n",
        "        VALUES\n",
        "        ('citric acid cycle',\n",
        "        'the main source of energy for cells and an important part of aerobic respiration');\n",
        "\"\"\"\n",
        "execute_sql_command(command)\n",
        "        \n",
        "command = \"\"\"\n",
        "    INSERT INTO Pathway\n",
        "        (name,\n",
        "        description)\n",
        "        VALUES\n",
        "        ('pentose phosphate pathway',\n",
        "         'an alternative to glycolysis and generates NADPH and pentoses');\n",
        "\"\"\"\n",
        "execute_sql_command(command)\n",
        "\n",
        "con=sqlite3.connect('lab3.db')\n",
        "import pandas as pd\n",
        "df = pd.read_sql('SELECT * FROM Pathway', con)\n",
        "print(df)"
      ]
    },
    {
      "cell_type": "markdown",
      "metadata": {
        "id": "MEppqtqDxD0t"
      },
      "source": [
        "# Part 3: populate enzymes table\n",
        "Similarly, populate the enzymes table and print its contents."
      ]
    },
    {
      "cell_type": "code",
      "execution_count": null,
      "metadata": {
        "id": "hKoDbXm0xD0u",
        "outputId": "9d6b0cd8-4124-43dd-953a-b0729b190ed6"
      },
      "outputs": [
        {
          "name": "stdout",
          "output_type": "stream",
          "text": [
            "                                             name  \\\n",
            "0                         pyruvate oxidoreductase   \n",
            "1                           glucose-6-phosphatase   \n",
            "2                                      hexokinase   \n",
            "3                         fructose-bisphosphatase   \n",
            "4               phosphoenolpyruvate carboxykinase   \n",
            "5   dihydrolipoyllysine-residue acetyltransferase   \n",
            "6                          pyruvate dehydrogenase   \n",
            "7                            pyruvate carboxylase   \n",
            "8                   glucose-6-phosphate isomerase   \n",
            "9               glucose-6-phosphate dehydrogenase   \n",
            "10                      6-phosphogluconolactonase   \n",
            "11                                  transketolase   \n",
            "\n",
            "                                             function         EC  \\\n",
            "0   oxidative decarboxylation of pyruvate to acety...    1.2.7.1   \n",
            "1                    produces D-glucose and phosphate    3.1.3.9   \n",
            "2                                 converts ATP to ADP    2.7.1.1   \n",
            "3   oxidative decarboxylation of pyruvate to acety...   3.1.3.11   \n",
            "4   enzyme in the lyase family used in the metabol...   4.1.1.32   \n",
            "5   responsible for the pyruvate decarboxylation s...   2.3.1.12   \n",
            "6   catalyzes the reaction of pyruvate and a lipoa...    1.2.4.1   \n",
            "7   catalyzes the physiologically irreversible car...    6.4.1.1   \n",
            "8   catalyses the reversible conversion specifical...    5.3.1.9   \n",
            "9   catalyses a step of the pentose phosphate pathway  1.1.1.363   \n",
            "10                     produces 6-phospho-D-gluconate   3.1.1.31   \n",
            "11  converts hydroxypyruvate and R-CHO into CO2 an...    2.2.1.1   \n",
            "\n",
            "                      pathway  \n",
            "0                  glycolysis  \n",
            "1                  glycolysis  \n",
            "2                  glycolysis  \n",
            "3                  glycolysis  \n",
            "4           citric acid cycle  \n",
            "5           citric acid cycle  \n",
            "6           citric acid cycle  \n",
            "7           citric acid cycle  \n",
            "8   pentose phosphate pathway  \n",
            "9   pentose phosphate pathway  \n",
            "10  pentose phosphate pathway  \n",
            "11  pentose phosphate pathway  \n"
          ]
        }
      ],
      "source": [
        "command = \"\"\"\n",
        "    INSERT INTO Enzyme\n",
        "        (name,\n",
        "        function,\n",
        "        EC,\n",
        "        pathway)\n",
        "        VALUES\n",
        "        ('pyruvate oxidoreductase',\n",
        "         'oxidative decarboxylation of pyruvate to acetyl-CoA',\n",
        "         '1.2.7.1',\n",
        "         'glycolysis');\n",
        "\"\"\"\n",
        "execute_sql_command(command)\n",
        "\n",
        "command = \"\"\"\n",
        "    INSERT INTO Enzyme\n",
        "        (name,\n",
        "        function,\n",
        "        EC,\n",
        "        pathway)\n",
        "        VALUES\n",
        "        ('glucose-6-phosphatase',\n",
        "         'produces D-glucose and phosphate',\n",
        "         '3.1.3.9',\n",
        "         'glycolysis');\n",
        "\"\"\"\n",
        "execute_sql_command(command)\n",
        "\n",
        "command = \"\"\"\n",
        "    INSERT INTO Enzyme\n",
        "        (name,\n",
        "        function,\n",
        "        EC,\n",
        "        pathway)\n",
        "        VALUES\n",
        "        ('hexokinase',\n",
        "         'converts ATP to ADP',\n",
        "         '2.7.1.1',\n",
        "         'glycolysis');\n",
        "\"\"\"\n",
        "execute_sql_command(command)\n",
        "\n",
        "command = \"\"\"\n",
        "    INSERT INTO Enzyme\n",
        "        (name,\n",
        "        function,\n",
        "        EC,\n",
        "        pathway)\n",
        "        VALUES\n",
        "        ('fructose-bisphosphatase',\n",
        "         'oxidative decarboxylation of pyruvate to acetyl-CoA',\n",
        "         '3.1.3.11',\n",
        "         'glycolysis');\n",
        "\"\"\"\n",
        "execute_sql_command(command)\n",
        "\n",
        "command = \"\"\"\n",
        "    INSERT INTO Enzyme\n",
        "        (name,\n",
        "        function,\n",
        "        EC,\n",
        "        pathway)\n",
        "        VALUES\n",
        "        ('phosphoenolpyruvate carboxykinase',\n",
        "         'enzyme in the lyase family used in the metabolic pathway of gluconeogenesis',\n",
        "         '4.1.1.32',\n",
        "         'citric acid cycle');\n",
        "\"\"\"\n",
        "execute_sql_command(command)\n",
        "\n",
        "command = \"\"\"\n",
        "    INSERT INTO Enzyme\n",
        "        (name,\n",
        "        function,\n",
        "        EC,\n",
        "        pathway)\n",
        "        VALUES\n",
        "        ('dihydrolipoyllysine-residue acetyltransferase',\n",
        "         'responsible for the pyruvate decarboxylation step that links glycolysis to the citric acid cycle',\n",
        "         '2.3.1.12',\n",
        "         'citric acid cycle');\n",
        "\"\"\"\n",
        "execute_sql_command(command)\n",
        "\n",
        "command = \"\"\"\n",
        "    INSERT INTO Enzyme\n",
        "        (name,\n",
        "        function,\n",
        "        EC,\n",
        "        pathway)\n",
        "        VALUES\n",
        "        ('pyruvate dehydrogenase',\n",
        "         'catalyzes the reaction of pyruvate and a lipoamide to give the acetylated dihydrolipoamide and carbon dioxide',\n",
        "         '1.2.4.1',\n",
        "         'citric acid cycle');\n",
        "\"\"\"\n",
        "execute_sql_command(command)\n",
        "\n",
        "command = \"\"\"\n",
        "    INSERT INTO Enzyme\n",
        "        (name,\n",
        "        function,\n",
        "        EC,\n",
        "        pathway)\n",
        "        VALUES\n",
        "        ('pyruvate carboxylase',\n",
        "         'catalyzes the physiologically irreversible carboxylation of pyruvate to form oxaloacetate',\n",
        "         '6.4.1.1',\n",
        "         'citric acid cycle');\n",
        "\"\"\"\n",
        "execute_sql_command(command)\n",
        "\n",
        "command = \"\"\"\n",
        "    INSERT INTO Enzyme\n",
        "        (name,\n",
        "        function,\n",
        "        EC,\n",
        "        pathway)\n",
        "        VALUES\n",
        "        ('glucose-6-phosphate isomerase',\n",
        "         'catalyses the reversible conversion specifically between the alpha-D-glucose 6-phosphate and beta-D-fructofuranose 6-phosphate',\n",
        "         '5.3.1.9',\n",
        "         'pentose phosphate pathway');\n",
        "\"\"\"\n",
        "execute_sql_command(command)\n",
        "\n",
        "command = \"\"\"\n",
        "    INSERT INTO Enzyme\n",
        "        (name,\n",
        "        function,\n",
        "        EC,\n",
        "        pathway)\n",
        "        VALUES\n",
        "        ('glucose-6-phosphate dehydrogenase',\n",
        "         'catalyses a step of the pentose phosphate pathway',\n",
        "         '1.1.1.363',\n",
        "         'pentose phosphate pathway');\n",
        "\"\"\"\n",
        "execute_sql_command(command)\n",
        "\n",
        "command = \"\"\"\n",
        "    INSERT INTO Enzyme\n",
        "        (name,\n",
        "        function,\n",
        "        EC,\n",
        "        pathway)\n",
        "        VALUES\n",
        "        ('6-phosphogluconolactonase',\n",
        "         'produces 6-phospho-D-gluconate',\n",
        "         '3.1.1.31',\n",
        "         'pentose phosphate pathway');\n",
        "\"\"\"\n",
        "execute_sql_command(command)\n",
        "\n",
        "command = \"\"\"\n",
        "    INSERT INTO Enzyme\n",
        "        (name,\n",
        "        function,\n",
        "        EC,\n",
        "        pathway)\n",
        "        VALUES\n",
        "        ('transketolase',\n",
        "         'converts hydroxypyruvate and R-CHO into CO2 and R-CHOH-CO-CH2OH',\n",
        "         '2.2.1.1',\n",
        "         'pentose phosphate pathway');\n",
        "\"\"\"\n",
        "execute_sql_command(command)\n",
        "\n",
        "\n",
        "df = pd.read_sql('SELECT * FROM Enzyme', con)\n",
        "print(df)"
      ]
    },
    {
      "cell_type": "markdown",
      "metadata": {
        "id": "88l0GP0oxD0v"
      },
      "source": [
        "# Part 4: retrieve gene information\n",
        "\n",
        "For genes, you will now automate this process using `Bio.Entrez`, which can be used to pull entire annotations for each enzyme from each organism—and more. You will ask it to return data as `GenBank` and later will use `Bio.SeqIO` to read the written `GenBank` file.\n",
        "\n",
        "For this part, complete the commented code in the function below."
      ]
    },
    {
      "cell_type": "code",
      "execution_count": null,
      "metadata": {
        "id": "gLdQUpDUxD0x",
        "outputId": "a0cd5947-2461-4a2b-ddc6-2044c3a4dc38"
      },
      "outputs": [
        {
          "name": "stdout",
          "output_type": "stream",
          "text": [
            "Collecting package metadata (current_repodata.json): ...working... done\n",
            "Solving environment: ...working... done\n",
            "\n",
            "# All requested packages already installed.\n",
            "\n"
          ]
        }
      ],
      "source": [
        "!conda install -y -q -c conda-forge biopython\n",
        "\n",
        "from Bio import Entrez\n",
        "from Bio import SeqIO\n",
        "from Bio.SeqRecord import SeqRecord\n",
        "from Bio.Seq import Seq\n",
        "\n",
        "\n",
        "Entrez.email = 'gcleary@berkeley.edu'\n",
        "\n",
        "\n",
        "def save_enzyme(ec_number: str, organism: str, file: str) -> None:\n",
        "    \"\"\"\n",
        "    Pull and save most relevant annotation for enzyme/organism pair\n",
        "    \n",
        "    Parameters\n",
        "    ----------\n",
        "    ec_number: str\n",
        "        Number assigned by the Enzyme Commission to designate a particular enzyme \n",
        "        or by the Chemical Abstracts Service (CAS) for Registry Numbers. \n",
        "    organism: str\n",
        "        Organism name\n",
        "    file: str\n",
        "        Name of saved file. SHOULD HAVE .gb extension\n",
        "        Points will be deducted if these files are committed to the repo.\n",
        "    \n",
        "    Returns\n",
        "    -------\n",
        "    No return, executes the command\n",
        "    \"\"\"\n",
        "    term = ec_number  + \" AND \" + organism + \"[Organism] AND 1:10000[SLEN]\"\n",
        "    handle = Entrez.esearch(db = 'nucleotide',\n",
        "                           term = term ,\n",
        "                           sort = 'relevance',\n",
        "                           idtype = 'acc')\n",
        "    \n",
        "    for i in Entrez.read(handle)['IdList']:\n",
        "        handle = Entrez.efetch(db = 'nucleotide', id = i, rettype = 'gb', retmode = 'text', retmax=1)\n",
        "        seq = SeqIO.read(handle, 'genbank')\n",
        "        if seq.annotations['organism'] == organism:\n",
        "            with open(file, 'w') as f:\n",
        "                SeqIO.write(seq, f, \"genbank\")\n",
        "            # write the sequence to file using `SeqIO.write` in genbank (.gb) format."
      ]
    },
    {
      "cell_type": "markdown",
      "metadata": {
        "id": "a1sA9rstxD0z"
      },
      "source": [
        "Run `save_enzyme` 24 times (`4 enzymes * 3 pathways * 2 organisms = 24`). This can take a while."
      ]
    },
    {
      "cell_type": "code",
      "execution_count": null,
      "metadata": {
        "id": "zyUoQNaxxD00"
      },
      "outputs": [],
      "source": [
        "for i in Enzyme\n",
        "    save_enzyme()"
      ]
    },
    {
      "cell_type": "markdown",
      "metadata": {
        "id": "lFag686-xD01"
      },
      "source": [
        "# Part 5: populate genes table\n",
        "\n",
        "Since we managed to pull the data directly into `genbank` files using `Bio.Entrez`, a for loop over the files can be used to insert your data into your table (make sure to use `execute_sql_command`). Print the table contents.\n",
        "\n",
        "*Note: For the purpose of this assignment, add to the table only one gene per enzyme and organism. If there are multiple genes associated with an enzyme and organism, you can pick one arbitrarily.*"
      ]
    },
    {
      "cell_type": "code",
      "execution_count": null,
      "metadata": {
        "id": "v-dv7HA1xD02"
      },
      "outputs": [],
      "source": [
        "# code here"
      ]
    },
    {
      "cell_type": "markdown",
      "metadata": {
        "id": "HqxZV1RBxD02"
      },
      "source": [
        "# Part 6: Query data with JOIN\n",
        "\n",
        "You should have added fields to your tables to link data together. For this part of the lab we would like to retrieve information from the three tables and print it with `pd.read_sql`."
      ]
    },
    {
      "cell_type": "markdown",
      "metadata": {
        "id": "y-j0N7QoxD03"
      },
      "source": [
        "### Part 6.1\n",
        "Make a join of the three tables and display the results.\n",
        "\n",
        "*Note: You must use the SQL JOIN command and not pandas to do joining.*"
      ]
    },
    {
      "cell_type": "code",
      "execution_count": null,
      "metadata": {
        "id": "bTWAzwqlxD04"
      },
      "outputs": [],
      "source": [
        "result = pd.read_sql(JOIN Enzyme on Pathway.name=Enzyme.pathway)\n",
        "pd.read_sql(JOIN result on Gene.EC=result.EC)"
      ]
    },
    {
      "cell_type": "markdown",
      "metadata": {
        "id": "XcfzzIOgxD04"
      },
      "source": [
        "### Part 6.2\n",
        "Retrieve just the description of all the genes associated with glycolisis."
      ]
    },
    {
      "cell_type": "code",
      "execution_count": null,
      "metadata": {
        "id": "PIhQFR8nxD05"
      },
      "outputs": [],
      "source": [
        "command = \"\"\"\n",
        "    SELECT description\n",
        "    FROM Gene\n",
        "    WHERE pathway=='glycolysis'\n",
        "\"\"\"\n",
        "execute_sql_command(command)"
      ]
    },
    {
      "cell_type": "markdown",
      "metadata": {
        "id": "g7biVpzfxD06"
      },
      "source": [
        "### Part 6.3\n",
        "Are the joins one-to-one, one-to-many, or many-to-many?\n",
        "\n",
        "### Answer"
      ]
    },
    {
      "cell_type": "markdown",
      "metadata": {
        "id": "U0lqNe6PxD06"
      },
      "source": [
        "one-to-many"
      ]
    },
    {
      "cell_type": "code",
      "execution_count": null,
      "metadata": {
        "id": "GYpH7uusxD06"
      },
      "outputs": [],
      "source": [
        "\n"
      ]
    },
    {
      "cell_type": "markdown",
      "metadata": {
        "id": "S8Bu2YxRxD06"
      },
      "source": [
        "# Submission\n",
        "\n",
        "1. Commit and push this notebook,\n",
        "2. Git add and commit the database file (then push)\n",
        "3. Submit repo link on GitHub"
      ]
    }
  ],
  "metadata": {
    "kernelspec": {
      "display_name": "Python 3 (ipykernel)",
      "language": "python",
      "name": "python3"
    },
    "language_info": {
      "codemirror_mode": {
        "name": "ipython",
        "version": 3
      },
      "file_extension": ".py",
      "mimetype": "text/x-python",
      "name": "python",
      "nbconvert_exporter": "python",
      "pygments_lexer": "ipython3",
      "version": "3.9.15"
    },
    "colab": {
      "provenance": [],
      "include_colab_link": true
    }
  },
  "nbformat": 4,
  "nbformat_minor": 0
}