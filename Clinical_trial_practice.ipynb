{
 "cells": [
  {
   "cell_type": "markdown",
   "id": "7f67ce08-31b6-40a5-a34d-26240e5a4521",
   "metadata": {},
   "source": [
    "This data set is from the kaggle competition @ https://www.kaggle.com/datasets/thedevastator/a-quick-overview-of-clinical-trials?select=AERO-BirdsEye-Data.csv"
   ]
  },
  {
   "cell_type": "code",
   "execution_count": 1,
   "id": "c58a27c2-edc8-40c8-8385-0df39eb44deb",
   "metadata": {},
   "outputs": [],
   "source": [
    "import pandas as pd\n",
    "import numpy as np\n",
    "import scipy.stats as stats\n",
    "import matplotlib as mpl\n",
    "import matplotlib.pyplot as plt\n",
    "import plotly.express as px\n",
    "import plotly.graph_objects as go"
   ]
  },
  {
   "cell_type": "code",
   "execution_count": 2,
   "id": "881f3d4e-3c37-4410-ba42-a11de3407236",
   "metadata": {},
   "outputs": [],
   "source": [
    "import plotly.io as pio\n",
    "pio.renderers.default = \"notebook_connected\""
   ]
  },
  {
   "cell_type": "markdown",
   "id": "331f5cdf-0c47-4c38-b049-858e0d33b1bd",
   "metadata": {},
   "source": [
    "# Preliminary Data Processing"
   ]
  },
  {
   "cell_type": "code",
   "execution_count": 3,
   "id": "d3681991-489d-4464-bd23-3ac527e5c632",
   "metadata": {},
   "outputs": [],
   "source": [
    "trials = pd.read_csv(\"AERO-BirdsEye-Data.csv\")"
   ]
  },
  {
   "cell_type": "code",
   "execution_count": 4,
   "id": "bcf7532c-578a-47a9-a685-33c818569f3f",
   "metadata": {},
   "outputs": [
    {
     "data": {
      "text/html": [
       "<div>\n",
       "<style scoped>\n",
       "    .dataframe tbody tr th:only-of-type {\n",
       "        vertical-align: middle;\n",
       "    }\n",
       "\n",
       "    .dataframe tbody tr th {\n",
       "        vertical-align: top;\n",
       "    }\n",
       "\n",
       "    .dataframe thead th {\n",
       "        text-align: right;\n",
       "    }\n",
       "</style>\n",
       "<table border=\"1\" class=\"dataframe\">\n",
       "  <thead>\n",
       "    <tr style=\"text-align: right;\">\n",
       "      <th></th>\n",
       "      <th>index</th>\n",
       "      <th>NCT</th>\n",
       "      <th>Sponsor</th>\n",
       "      <th>Title</th>\n",
       "      <th>Summary</th>\n",
       "      <th>Start_Year</th>\n",
       "      <th>Start_Month</th>\n",
       "      <th>Phase</th>\n",
       "      <th>Enrollment</th>\n",
       "      <th>Status</th>\n",
       "      <th>Condition</th>\n",
       "    </tr>\n",
       "  </thead>\n",
       "  <tbody>\n",
       "    <tr>\n",
       "      <th>0</th>\n",
       "      <td>0</td>\n",
       "      <td>NCT00003305</td>\n",
       "      <td>Sanofi</td>\n",
       "      <td>A Phase II Trial of Aminopterin in Adults and ...</td>\n",
       "      <td>RATIONALE: Drugs used in chemotherapy use diff...</td>\n",
       "      <td>1997</td>\n",
       "      <td>7</td>\n",
       "      <td>Phase 2</td>\n",
       "      <td>75</td>\n",
       "      <td>Completed</td>\n",
       "      <td>Leukemia</td>\n",
       "    </tr>\n",
       "    <tr>\n",
       "      <th>1</th>\n",
       "      <td>1</td>\n",
       "      <td>NCT00003821</td>\n",
       "      <td>Sanofi</td>\n",
       "      <td>Phase II Trial of Aminopterin in Patients With...</td>\n",
       "      <td>RATIONALE: Drugs used in chemotherapy use diff...</td>\n",
       "      <td>1998</td>\n",
       "      <td>1</td>\n",
       "      <td>Phase 2</td>\n",
       "      <td>0</td>\n",
       "      <td>Withdrawn</td>\n",
       "      <td>Endometrial Neoplasms</td>\n",
       "    </tr>\n",
       "    <tr>\n",
       "      <th>2</th>\n",
       "      <td>2</td>\n",
       "      <td>NCT00004025</td>\n",
       "      <td>Sanofi</td>\n",
       "      <td>Phase I/II Trial of the Safety, Immunogenicity...</td>\n",
       "      <td>RATIONALE: Vaccines made from a person's white...</td>\n",
       "      <td>1999</td>\n",
       "      <td>3</td>\n",
       "      <td>Phase 1/Phase 2</td>\n",
       "      <td>36</td>\n",
       "      <td>Unknown status</td>\n",
       "      <td>Melanoma</td>\n",
       "    </tr>\n",
       "    <tr>\n",
       "      <th>3</th>\n",
       "      <td>3</td>\n",
       "      <td>NCT00005645</td>\n",
       "      <td>Sanofi</td>\n",
       "      <td>Phase II Trial of ILX295501 Administered Orall...</td>\n",
       "      <td>RATIONALE: Drugs used in chemotherapy use diff...</td>\n",
       "      <td>1999</td>\n",
       "      <td>5</td>\n",
       "      <td>Phase 2</td>\n",
       "      <td>0</td>\n",
       "      <td>Withdrawn</td>\n",
       "      <td>Ovarian Neoplasms</td>\n",
       "    </tr>\n",
       "    <tr>\n",
       "      <th>4</th>\n",
       "      <td>4</td>\n",
       "      <td>NCT00008281</td>\n",
       "      <td>Sanofi</td>\n",
       "      <td>A Multicenter, Open-Label, Randomized, Three-A...</td>\n",
       "      <td>RATIONALE: Drugs used in chemotherapy use diff...</td>\n",
       "      <td>2000</td>\n",
       "      <td>10</td>\n",
       "      <td>Phase 3</td>\n",
       "      <td>0</td>\n",
       "      <td>Unknown status</td>\n",
       "      <td>Colorectal Neoplasms</td>\n",
       "    </tr>\n",
       "  </tbody>\n",
       "</table>\n",
       "</div>"
      ],
      "text/plain": [
       "   index          NCT Sponsor  \\\n",
       "0      0  NCT00003305  Sanofi   \n",
       "1      1  NCT00003821  Sanofi   \n",
       "2      2  NCT00004025  Sanofi   \n",
       "3      3  NCT00005645  Sanofi   \n",
       "4      4  NCT00008281  Sanofi   \n",
       "\n",
       "                                               Title  \\\n",
       "0  A Phase II Trial of Aminopterin in Adults and ...   \n",
       "1  Phase II Trial of Aminopterin in Patients With...   \n",
       "2  Phase I/II Trial of the Safety, Immunogenicity...   \n",
       "3  Phase II Trial of ILX295501 Administered Orall...   \n",
       "4  A Multicenter, Open-Label, Randomized, Three-A...   \n",
       "\n",
       "                                             Summary  Start_Year  Start_Month  \\\n",
       "0  RATIONALE: Drugs used in chemotherapy use diff...        1997            7   \n",
       "1  RATIONALE: Drugs used in chemotherapy use diff...        1998            1   \n",
       "2  RATIONALE: Vaccines made from a person's white...        1999            3   \n",
       "3  RATIONALE: Drugs used in chemotherapy use diff...        1999            5   \n",
       "4  RATIONALE: Drugs used in chemotherapy use diff...        2000           10   \n",
       "\n",
       "             Phase  Enrollment          Status              Condition  \n",
       "0          Phase 2          75       Completed               Leukemia  \n",
       "1          Phase 2           0       Withdrawn  Endometrial Neoplasms  \n",
       "2  Phase 1/Phase 2          36  Unknown status               Melanoma  \n",
       "3          Phase 2           0       Withdrawn      Ovarian Neoplasms  \n",
       "4          Phase 3           0  Unknown status   Colorectal Neoplasms  "
      ]
     },
     "execution_count": 4,
     "metadata": {},
     "output_type": "execute_result"
    }
   ],
   "source": [
    "trials.head()\n"
   ]
  },
  {
   "cell_type": "code",
   "execution_count": 5,
   "id": "3a15d585-801a-4fb7-a89c-90206075e52c",
   "metadata": {},
   "outputs": [
    {
     "data": {
      "text/plain": [
       "(13748, 11)"
      ]
     },
     "execution_count": 5,
     "metadata": {},
     "output_type": "execute_result"
    }
   ],
   "source": [
    "np.shape(trials)"
   ]
  },
  {
   "cell_type": "code",
   "execution_count": 6,
   "id": "c43275c4-2d11-49a8-9c68-acb44cf98b38",
   "metadata": {},
   "outputs": [
    {
     "data": {
      "text/html": [
       "<div>\n",
       "<style scoped>\n",
       "    .dataframe tbody tr th:only-of-type {\n",
       "        vertical-align: middle;\n",
       "    }\n",
       "\n",
       "    .dataframe tbody tr th {\n",
       "        vertical-align: top;\n",
       "    }\n",
       "\n",
       "    .dataframe thead th {\n",
       "        text-align: right;\n",
       "    }\n",
       "</style>\n",
       "<table border=\"1\" class=\"dataframe\">\n",
       "  <thead>\n",
       "    <tr style=\"text-align: right;\">\n",
       "      <th></th>\n",
       "      <th>index</th>\n",
       "      <th>Start_Year</th>\n",
       "      <th>Start_Month</th>\n",
       "      <th>Enrollment</th>\n",
       "    </tr>\n",
       "  </thead>\n",
       "  <tbody>\n",
       "    <tr>\n",
       "      <th>count</th>\n",
       "      <td>13748.000000</td>\n",
       "      <td>13748.000000</td>\n",
       "      <td>13748.000000</td>\n",
       "      <td>13748.000000</td>\n",
       "    </tr>\n",
       "    <tr>\n",
       "      <th>mean</th>\n",
       "      <td>6873.500000</td>\n",
       "      <td>2009.155586</td>\n",
       "      <td>6.691155</td>\n",
       "      <td>440.783678</td>\n",
       "    </tr>\n",
       "    <tr>\n",
       "      <th>std</th>\n",
       "      <td>3968.850085</td>\n",
       "      <td>4.797615</td>\n",
       "      <td>3.486359</td>\n",
       "      <td>1944.530768</td>\n",
       "    </tr>\n",
       "    <tr>\n",
       "      <th>min</th>\n",
       "      <td>0.000000</td>\n",
       "      <td>1984.000000</td>\n",
       "      <td>1.000000</td>\n",
       "      <td>0.000000</td>\n",
       "    </tr>\n",
       "    <tr>\n",
       "      <th>25%</th>\n",
       "      <td>3436.750000</td>\n",
       "      <td>2006.000000</td>\n",
       "      <td>4.000000</td>\n",
       "      <td>40.000000</td>\n",
       "    </tr>\n",
       "    <tr>\n",
       "      <th>50%</th>\n",
       "      <td>6873.500000</td>\n",
       "      <td>2009.000000</td>\n",
       "      <td>7.000000</td>\n",
       "      <td>124.000000</td>\n",
       "    </tr>\n",
       "    <tr>\n",
       "      <th>75%</th>\n",
       "      <td>10310.250000</td>\n",
       "      <td>2013.000000</td>\n",
       "      <td>10.000000</td>\n",
       "      <td>365.000000</td>\n",
       "    </tr>\n",
       "    <tr>\n",
       "      <th>max</th>\n",
       "      <td>13747.000000</td>\n",
       "      <td>2020.000000</td>\n",
       "      <td>12.000000</td>\n",
       "      <td>84496.000000</td>\n",
       "    </tr>\n",
       "  </tbody>\n",
       "</table>\n",
       "</div>"
      ],
      "text/plain": [
       "              index    Start_Year   Start_Month    Enrollment\n",
       "count  13748.000000  13748.000000  13748.000000  13748.000000\n",
       "mean    6873.500000   2009.155586      6.691155    440.783678\n",
       "std     3968.850085      4.797615      3.486359   1944.530768\n",
       "min        0.000000   1984.000000      1.000000      0.000000\n",
       "25%     3436.750000   2006.000000      4.000000     40.000000\n",
       "50%     6873.500000   2009.000000      7.000000    124.000000\n",
       "75%    10310.250000   2013.000000     10.000000    365.000000\n",
       "max    13747.000000   2020.000000     12.000000  84496.000000"
      ]
     },
     "execution_count": 6,
     "metadata": {},
     "output_type": "execute_result"
    }
   ],
   "source": [
    "trials.describe(include=[np.number])"
   ]
  },
  {
   "cell_type": "markdown",
   "id": "0798210c-9c9a-4cf7-99b2-6126e892bf13",
   "metadata": {},
   "source": [
    "This describe method returns strange values from the numerical data in the file.  So I used more specific parameters."
   ]
  },
  {
   "cell_type": "code",
   "execution_count": 7,
   "id": "d81f1ac9-68d8-469e-80cf-ee3a04546b26",
   "metadata": {},
   "outputs": [
    {
     "data": {
      "text/html": [
       "<div>\n",
       "<style scoped>\n",
       "    .dataframe tbody tr th:only-of-type {\n",
       "        vertical-align: middle;\n",
       "    }\n",
       "\n",
       "    .dataframe tbody tr th {\n",
       "        vertical-align: top;\n",
       "    }\n",
       "\n",
       "    .dataframe thead th {\n",
       "        text-align: right;\n",
       "    }\n",
       "</style>\n",
       "<table border=\"1\" class=\"dataframe\">\n",
       "  <thead>\n",
       "    <tr style=\"text-align: right;\">\n",
       "      <th></th>\n",
       "      <th>NCT</th>\n",
       "      <th>Sponsor</th>\n",
       "      <th>Title</th>\n",
       "      <th>Summary</th>\n",
       "      <th>Phase</th>\n",
       "      <th>Status</th>\n",
       "      <th>Condition</th>\n",
       "    </tr>\n",
       "  </thead>\n",
       "  <tbody>\n",
       "    <tr>\n",
       "      <th>count</th>\n",
       "      <td>13748</td>\n",
       "      <td>13748</td>\n",
       "      <td>13604</td>\n",
       "      <td>13748</td>\n",
       "      <td>13485</td>\n",
       "      <td>13748</td>\n",
       "      <td>13748</td>\n",
       "    </tr>\n",
       "    <tr>\n",
       "      <th>unique</th>\n",
       "      <td>13748</td>\n",
       "      <td>10</td>\n",
       "      <td>13434</td>\n",
       "      <td>13565</td>\n",
       "      <td>7</td>\n",
       "      <td>9</td>\n",
       "      <td>867</td>\n",
       "    </tr>\n",
       "    <tr>\n",
       "      <th>top</th>\n",
       "      <td>NCT00135564</td>\n",
       "      <td>GSK</td>\n",
       "      <td>Human Photoallergy Test</td>\n",
       "      <td>#NAME?</td>\n",
       "      <td>Phase 3</td>\n",
       "      <td>Completed</td>\n",
       "      <td>Diabetes Mellitus, Type 2</td>\n",
       "    </tr>\n",
       "    <tr>\n",
       "      <th>freq</th>\n",
       "      <td>1</td>\n",
       "      <td>2473</td>\n",
       "      <td>7</td>\n",
       "      <td>11</td>\n",
       "      <td>4887</td>\n",
       "      <td>10568</td>\n",
       "      <td>536</td>\n",
       "    </tr>\n",
       "  </tbody>\n",
       "</table>\n",
       "</div>"
      ],
      "text/plain": [
       "                NCT Sponsor                    Title Summary    Phase  \\\n",
       "count         13748   13748                    13604   13748    13485   \n",
       "unique        13748      10                    13434   13565        7   \n",
       "top     NCT00135564     GSK  Human Photoallergy Test  #NAME?  Phase 3   \n",
       "freq              1    2473                        7      11     4887   \n",
       "\n",
       "           Status                  Condition  \n",
       "count       13748                      13748  \n",
       "unique          9                        867  \n",
       "top     Completed  Diabetes Mellitus, Type 2  \n",
       "freq        10568                        536  "
      ]
     },
     "execution_count": 7,
     "metadata": {},
     "output_type": "execute_result"
    }
   ],
   "source": [
    "trials.describe(include=['object', 'category'])"
   ]
  },
  {
   "cell_type": "code",
   "execution_count": 8,
   "id": "011982c5-203e-40ec-9b78-e4b131583eb2",
   "metadata": {},
   "outputs": [
    {
     "data": {
      "text/plain": [
       "index           int64\n",
       "NCT            object\n",
       "Sponsor        object\n",
       "Title          object\n",
       "Summary        object\n",
       "Start_Year      int64\n",
       "Start_Month     int64\n",
       "Phase          object\n",
       "Enrollment      int64\n",
       "Status         object\n",
       "Condition      object\n",
       "dtype: object"
      ]
     },
     "execution_count": 8,
     "metadata": {},
     "output_type": "execute_result"
    }
   ],
   "source": [
    "trials.dtypes"
   ]
  },
  {
   "cell_type": "code",
   "execution_count": 9,
   "id": "be4080fd-935f-44cf-877d-52c103e17c29",
   "metadata": {},
   "outputs": [
    {
     "data": {
      "text/plain": [
       "index            0\n",
       "NCT              0\n",
       "Sponsor          0\n",
       "Title          144\n",
       "Summary          0\n",
       "Start_Year       0\n",
       "Start_Month      0\n",
       "Phase          263\n",
       "Enrollment       0\n",
       "Status           0\n",
       "Condition        0\n",
       "dtype: int64"
      ]
     },
     "execution_count": 9,
     "metadata": {},
     "output_type": "execute_result"
    }
   ],
   "source": [
    "trials.isnull().sum()"
   ]
  },
  {
   "cell_type": "code",
   "execution_count": 10,
   "id": "ea04dae4-81d7-485f-ae05-34ce682f8343",
   "metadata": {},
   "outputs": [
    {
     "data": {
      "text/plain": [
       "index          0.000000\n",
       "NCT            0.000000\n",
       "Sponsor        0.000000\n",
       "Title          1.047425\n",
       "Summary        0.000000\n",
       "Start_Year     0.000000\n",
       "Start_Month    0.000000\n",
       "Phase          1.913006\n",
       "Enrollment     0.000000\n",
       "Status         0.000000\n",
       "Condition      0.000000\n",
       "dtype: float64"
      ]
     },
     "execution_count": 10,
     "metadata": {},
     "output_type": "execute_result"
    }
   ],
   "source": [
    "trials.isnull().mean() * 100"
   ]
  },
  {
   "cell_type": "code",
   "execution_count": 16,
   "id": "aabe7646-e908-4dc9-ad68-19434dc67e29",
   "metadata": {},
   "outputs": [
    {
     "name": "stdout",
     "output_type": "stream",
     "text": [
      "       index          NCT Sponsor Title  \\\n",
      "43        43  NCT00067093  Sanofi   NaN   \n",
      "96        96  NCT00131300  Sanofi   NaN   \n",
      "97        97  NCT00131326  Sanofi   NaN   \n",
      "99        99  NCT00131768  Sanofi   NaN   \n",
      "109      109  NCT00140608  Sanofi   NaN   \n",
      "...      ...          ...     ...   ...   \n",
      "13454  13454  NCT02168530   Roche   NaN   \n",
      "13483  13483  NCT02402712   Roche   NaN   \n",
      "13611  13611  NCT02824055   Roche   NaN   \n",
      "13632  13632  NCT02952911   Roche   NaN   \n",
      "13633  13633  NCT02952924   Roche   NaN   \n",
      "\n",
      "                                                 Summary  Start_Year  \\\n",
      "43     Patients who have deep vein thrombosis (blood ...        2003   \n",
      "96     This clinical study is to evaluate the safety ...        2004   \n",
      "97     This is a clinical study to investigate the sa...        2003   \n",
      "99     This clinical study is to evaluate the safety ...        2003   \n",
      "109    The purpose of this study is to investigate if...        2003   \n",
      "...                                                  ...         ...   \n",
      "13454  This is a randomized, multicenter, double-blin...        2014   \n",
      "13483  This is an open-label, single-arm, multicenter...        2015   \n",
      "13611  This is a multicenter, randomized, double-blin...        2016   \n",
      "13632  This prospective pilot study will assess the f...        2016   \n",
      "13633  This study is sponsor-open, investigator-blind...        2016   \n",
      "\n",
      "       Start_Month    Phase  Enrollment                  Status  \\\n",
      "43               5  Phase 3        1452               Completed   \n",
      "96               4  Phase 3           0               Completed   \n",
      "97              11  Phase 3           0               Completed   \n",
      "99              11  Phase 3           0               Completed   \n",
      "109              6      NaN           0              Terminated   \n",
      "...            ...      ...         ...                     ...   \n",
      "13454           10  Phase 2           0               Withdrawn   \n",
      "13483            5  Phase 3         418  Active, not recruiting   \n",
      "13611            6  Phase 1          33               Completed   \n",
      "13632           11      NaN         100               Completed   \n",
      "13633           12  Phase 1         128              Recruiting   \n",
      "\n",
      "                           Condition  \n",
      "43                        Thrombosis  \n",
      "96                    Osteoarthritis  \n",
      "97               Osteoarthritis, Hip  \n",
      "99                    Osteoarthritis  \n",
      "109                        Sinusitis  \n",
      "...                              ...  \n",
      "13454  Idiopathic Pulmonary Fibrosis  \n",
      "13483               Breast Neoplasms  \n",
      "13611                  Schizophrenia  \n",
      "13632             Multiple Sclerosis  \n",
      "13633           Hepatitis B, Chronic  \n",
      "\n",
      "[144 rows x 11 columns]\n"
     ]
    }
   ],
   "source": [
    "null_titles = trials[trials[\"Title\"].isnull()]\n",
    "print(null_titles)"
   ]
  },
  {
   "cell_type": "code",
   "execution_count": 12,
   "id": "f897c8dc-e78b-46c2-891a-b994a651519e",
   "metadata": {},
   "outputs": [],
   "source": [
    "trials = trials.fillna(\"Unknown\")"
   ]
  },
  {
   "cell_type": "markdown",
   "id": "2f9a6aa3-d0be-427e-a41c-38a74e1193ee",
   "metadata": {},
   "source": [
    "Changing null values to \"Unknown\" to prevent misrepresentation in the data.  "
   ]
  },
  {
   "cell_type": "code",
   "execution_count": 13,
   "id": "9acaa960-7d77-472b-b1bd-6c402c14067e",
   "metadata": {},
   "outputs": [
    {
     "data": {
      "text/plain": [
       "index          0\n",
       "NCT            0\n",
       "Sponsor        0\n",
       "Title          0\n",
       "Summary        0\n",
       "Start_Year     0\n",
       "Start_Month    0\n",
       "Phase          0\n",
       "Enrollment     0\n",
       "Status         0\n",
       "Condition      0\n",
       "dtype: int64"
      ]
     },
     "execution_count": 13,
     "metadata": {},
     "output_type": "execute_result"
    }
   ],
   "source": [
    "trials.isnull().sum()"
   ]
  },
  {
   "cell_type": "markdown",
   "id": "9277b274-3815-4f08-9c20-8fe2377d3692",
   "metadata": {},
   "source": [
    "# Data Analysis"
   ]
  },
  {
   "cell_type": "code",
   "execution_count": 9,
   "id": "bde82b9b-d779-4e58-a50d-3dfb81511718",
   "metadata": {},
   "outputs": [],
   "source": [
    "trials_summary = pd.DataFrame()\n",
    "trials_summary['values']=(trials.groupby(['Sponsor']).size())\n",
    "trials_summary = trials_summary.reset_index().rename(columns={\"index\": \"Sponsor\"})"
   ]
  },
  {
   "cell_type": "code",
   "execution_count": 12,
   "id": "b5fef7e8-e75d-4340-947e-3caf3237763a",
   "metadata": {},
   "outputs": [
    {
     "data": {
      "text/html": [
       "        <script type=\"text/javascript\">\n",
       "        window.PlotlyConfig = {MathJaxConfig: 'local'};\n",
       "        if (window.MathJax && window.MathJax.Hub && window.MathJax.Hub.Config) {window.MathJax.Hub.Config({SVG: {font: \"STIX-Web\"}});}\n",
       "        </script>\n",
       "        <script type=\"module\">import \"https://cdn.plot.ly/plotly-3.1.0.min\"</script>\n",
       "        "
      ]
     },
     "metadata": {},
     "output_type": "display_data"
    },
    {
     "data": {
      "text/html": [
       "<div>            <script src=\"https://cdnjs.cloudflare.com/ajax/libs/mathjax/2.7.5/MathJax.js?config=TeX-AMS-MML_SVG\"></script><script type=\"text/javascript\">if (window.MathJax && window.MathJax.Hub && window.MathJax.Hub.Config) {window.MathJax.Hub.Config({SVG: {font: \"STIX-Web\"}});}</script>                <script type=\"text/javascript\">window.PlotlyConfig = {MathJaxConfig: 'local'};</script>\n",
       "        <script charset=\"utf-8\" src=\"https://cdn.plot.ly/plotly-3.1.0.min.js\" integrity=\"sha256-Ei4740bWZhaUTQuD6q9yQlgVCMPBz6CZWhevDYPv93A=\" crossorigin=\"anonymous\"></script>                <div id=\"901a0651-a66d-432b-9bb5-a401b643c3e2\" class=\"plotly-graph-div\" style=\"height:600px; width:600px;\"></div>            <script type=\"text/javascript\">                window.PLOTLYENV=window.PLOTLYENV || {};                                if (document.getElementById(\"901a0651-a66d-432b-9bb5-a401b643c3e2\")) {                    Plotly.newPlot(                        \"901a0651-a66d-432b-9bb5-a401b643c3e2\",                        [{\"domain\":{\"x\":[0.0,1.0],\"y\":[0.0,1.0]},\"hovertemplate\":\"Sponsor=%{label}\\u003cbr\\u003evalue=%{value}\\u003cextra\\u003e\\u003c\\u002fextra\\u003e\",\"labels\":[\"AbbVie\",\"Bayer\",\"GSK\",\"Gilead\",\"JNJ\",\"Merck\",\"Novartis\",\"Pfizer\",\"Roche\",\"Sanofi\"],\"legendgroup\":\"\",\"name\":\"\",\"showlegend\":true,\"values\":{\"dtype\":\"i2\",\"bdata\":\"oQFrAqkJoQF3BOoGEAmyB0cE9AU=\"},\"type\":\"pie\",\"textinfo\":\"label+percent\",\"textposition\":\"inside\"}],                        {\"template\":{\"data\":{\"histogram2dcontour\":[{\"type\":\"histogram2dcontour\",\"colorbar\":{\"outlinewidth\":0,\"ticks\":\"\"},\"colorscale\":[[0.0,\"#0d0887\"],[0.1111111111111111,\"#46039f\"],[0.2222222222222222,\"#7201a8\"],[0.3333333333333333,\"#9c179e\"],[0.4444444444444444,\"#bd3786\"],[0.5555555555555556,\"#d8576b\"],[0.6666666666666666,\"#ed7953\"],[0.7777777777777778,\"#fb9f3a\"],[0.8888888888888888,\"#fdca26\"],[1.0,\"#f0f921\"]]}],\"choropleth\":[{\"type\":\"choropleth\",\"colorbar\":{\"outlinewidth\":0,\"ticks\":\"\"}}],\"histogram2d\":[{\"type\":\"histogram2d\",\"colorbar\":{\"outlinewidth\":0,\"ticks\":\"\"},\"colorscale\":[[0.0,\"#0d0887\"],[0.1111111111111111,\"#46039f\"],[0.2222222222222222,\"#7201a8\"],[0.3333333333333333,\"#9c179e\"],[0.4444444444444444,\"#bd3786\"],[0.5555555555555556,\"#d8576b\"],[0.6666666666666666,\"#ed7953\"],[0.7777777777777778,\"#fb9f3a\"],[0.8888888888888888,\"#fdca26\"],[1.0,\"#f0f921\"]]}],\"heatmap\":[{\"type\":\"heatmap\",\"colorbar\":{\"outlinewidth\":0,\"ticks\":\"\"},\"colorscale\":[[0.0,\"#0d0887\"],[0.1111111111111111,\"#46039f\"],[0.2222222222222222,\"#7201a8\"],[0.3333333333333333,\"#9c179e\"],[0.4444444444444444,\"#bd3786\"],[0.5555555555555556,\"#d8576b\"],[0.6666666666666666,\"#ed7953\"],[0.7777777777777778,\"#fb9f3a\"],[0.8888888888888888,\"#fdca26\"],[1.0,\"#f0f921\"]]}],\"contourcarpet\":[{\"type\":\"contourcarpet\",\"colorbar\":{\"outlinewidth\":0,\"ticks\":\"\"}}],\"contour\":[{\"type\":\"contour\",\"colorbar\":{\"outlinewidth\":0,\"ticks\":\"\"},\"colorscale\":[[0.0,\"#0d0887\"],[0.1111111111111111,\"#46039f\"],[0.2222222222222222,\"#7201a8\"],[0.3333333333333333,\"#9c179e\"],[0.4444444444444444,\"#bd3786\"],[0.5555555555555556,\"#d8576b\"],[0.6666666666666666,\"#ed7953\"],[0.7777777777777778,\"#fb9f3a\"],[0.8888888888888888,\"#fdca26\"],[1.0,\"#f0f921\"]]}],\"surface\":[{\"type\":\"surface\",\"colorbar\":{\"outlinewidth\":0,\"ticks\":\"\"},\"colorscale\":[[0.0,\"#0d0887\"],[0.1111111111111111,\"#46039f\"],[0.2222222222222222,\"#7201a8\"],[0.3333333333333333,\"#9c179e\"],[0.4444444444444444,\"#bd3786\"],[0.5555555555555556,\"#d8576b\"],[0.6666666666666666,\"#ed7953\"],[0.7777777777777778,\"#fb9f3a\"],[0.8888888888888888,\"#fdca26\"],[1.0,\"#f0f921\"]]}],\"mesh3d\":[{\"type\":\"mesh3d\",\"colorbar\":{\"outlinewidth\":0,\"ticks\":\"\"}}],\"scatter\":[{\"fillpattern\":{\"fillmode\":\"overlay\",\"size\":10,\"solidity\":0.2},\"type\":\"scatter\"}],\"parcoords\":[{\"type\":\"parcoords\",\"line\":{\"colorbar\":{\"outlinewidth\":0,\"ticks\":\"\"}}}],\"scatterpolargl\":[{\"type\":\"scatterpolargl\",\"marker\":{\"colorbar\":{\"outlinewidth\":0,\"ticks\":\"\"}}}],\"bar\":[{\"error_x\":{\"color\":\"#2a3f5f\"},\"error_y\":{\"color\":\"#2a3f5f\"},\"marker\":{\"line\":{\"color\":\"#E5ECF6\",\"width\":0.5},\"pattern\":{\"fillmode\":\"overlay\",\"size\":10,\"solidity\":0.2}},\"type\":\"bar\"}],\"scattergeo\":[{\"type\":\"scattergeo\",\"marker\":{\"colorbar\":{\"outlinewidth\":0,\"ticks\":\"\"}}}],\"scatterpolar\":[{\"type\":\"scatterpolar\",\"marker\":{\"colorbar\":{\"outlinewidth\":0,\"ticks\":\"\"}}}],\"histogram\":[{\"marker\":{\"pattern\":{\"fillmode\":\"overlay\",\"size\":10,\"solidity\":0.2}},\"type\":\"histogram\"}],\"scattergl\":[{\"type\":\"scattergl\",\"marker\":{\"colorbar\":{\"outlinewidth\":0,\"ticks\":\"\"}}}],\"scatter3d\":[{\"type\":\"scatter3d\",\"line\":{\"colorbar\":{\"outlinewidth\":0,\"ticks\":\"\"}},\"marker\":{\"colorbar\":{\"outlinewidth\":0,\"ticks\":\"\"}}}],\"scattermap\":[{\"type\":\"scattermap\",\"marker\":{\"colorbar\":{\"outlinewidth\":0,\"ticks\":\"\"}}}],\"scattermapbox\":[{\"type\":\"scattermapbox\",\"marker\":{\"colorbar\":{\"outlinewidth\":0,\"ticks\":\"\"}}}],\"scatterternary\":[{\"type\":\"scatterternary\",\"marker\":{\"colorbar\":{\"outlinewidth\":0,\"ticks\":\"\"}}}],\"scattercarpet\":[{\"type\":\"scattercarpet\",\"marker\":{\"colorbar\":{\"outlinewidth\":0,\"ticks\":\"\"}}}],\"carpet\":[{\"aaxis\":{\"endlinecolor\":\"#2a3f5f\",\"gridcolor\":\"white\",\"linecolor\":\"white\",\"minorgridcolor\":\"white\",\"startlinecolor\":\"#2a3f5f\"},\"baxis\":{\"endlinecolor\":\"#2a3f5f\",\"gridcolor\":\"white\",\"linecolor\":\"white\",\"minorgridcolor\":\"white\",\"startlinecolor\":\"#2a3f5f\"},\"type\":\"carpet\"}],\"table\":[{\"cells\":{\"fill\":{\"color\":\"#EBF0F8\"},\"line\":{\"color\":\"white\"}},\"header\":{\"fill\":{\"color\":\"#C8D4E3\"},\"line\":{\"color\":\"white\"}},\"type\":\"table\"}],\"barpolar\":[{\"marker\":{\"line\":{\"color\":\"#E5ECF6\",\"width\":0.5},\"pattern\":{\"fillmode\":\"overlay\",\"size\":10,\"solidity\":0.2}},\"type\":\"barpolar\"}],\"pie\":[{\"automargin\":true,\"type\":\"pie\"}]},\"layout\":{\"autotypenumbers\":\"strict\",\"colorway\":[\"#636efa\",\"#EF553B\",\"#00cc96\",\"#ab63fa\",\"#FFA15A\",\"#19d3f3\",\"#FF6692\",\"#B6E880\",\"#FF97FF\",\"#FECB52\"],\"font\":{\"color\":\"#2a3f5f\"},\"hovermode\":\"closest\",\"hoverlabel\":{\"align\":\"left\"},\"paper_bgcolor\":\"white\",\"plot_bgcolor\":\"#E5ECF6\",\"polar\":{\"bgcolor\":\"#E5ECF6\",\"angularaxis\":{\"gridcolor\":\"white\",\"linecolor\":\"white\",\"ticks\":\"\"},\"radialaxis\":{\"gridcolor\":\"white\",\"linecolor\":\"white\",\"ticks\":\"\"}},\"ternary\":{\"bgcolor\":\"#E5ECF6\",\"aaxis\":{\"gridcolor\":\"white\",\"linecolor\":\"white\",\"ticks\":\"\"},\"baxis\":{\"gridcolor\":\"white\",\"linecolor\":\"white\",\"ticks\":\"\"},\"caxis\":{\"gridcolor\":\"white\",\"linecolor\":\"white\",\"ticks\":\"\"}},\"coloraxis\":{\"colorbar\":{\"outlinewidth\":0,\"ticks\":\"\"}},\"colorscale\":{\"sequential\":[[0.0,\"#0d0887\"],[0.1111111111111111,\"#46039f\"],[0.2222222222222222,\"#7201a8\"],[0.3333333333333333,\"#9c179e\"],[0.4444444444444444,\"#bd3786\"],[0.5555555555555556,\"#d8576b\"],[0.6666666666666666,\"#ed7953\"],[0.7777777777777778,\"#fb9f3a\"],[0.8888888888888888,\"#fdca26\"],[1.0,\"#f0f921\"]],\"sequentialminus\":[[0.0,\"#0d0887\"],[0.1111111111111111,\"#46039f\"],[0.2222222222222222,\"#7201a8\"],[0.3333333333333333,\"#9c179e\"],[0.4444444444444444,\"#bd3786\"],[0.5555555555555556,\"#d8576b\"],[0.6666666666666666,\"#ed7953\"],[0.7777777777777778,\"#fb9f3a\"],[0.8888888888888888,\"#fdca26\"],[1.0,\"#f0f921\"]],\"diverging\":[[0,\"#8e0152\"],[0.1,\"#c51b7d\"],[0.2,\"#de77ae\"],[0.3,\"#f1b6da\"],[0.4,\"#fde0ef\"],[0.5,\"#f7f7f7\"],[0.6,\"#e6f5d0\"],[0.7,\"#b8e186\"],[0.8,\"#7fbc41\"],[0.9,\"#4d9221\"],[1,\"#276419\"]]},\"xaxis\":{\"gridcolor\":\"white\",\"linecolor\":\"white\",\"ticks\":\"\",\"title\":{\"standoff\":15},\"zerolinecolor\":\"white\",\"automargin\":true,\"zerolinewidth\":2},\"yaxis\":{\"gridcolor\":\"white\",\"linecolor\":\"white\",\"ticks\":\"\",\"title\":{\"standoff\":15},\"zerolinecolor\":\"white\",\"automargin\":true,\"zerolinewidth\":2},\"scene\":{\"xaxis\":{\"backgroundcolor\":\"#E5ECF6\",\"gridcolor\":\"white\",\"linecolor\":\"white\",\"showbackground\":true,\"ticks\":\"\",\"zerolinecolor\":\"white\",\"gridwidth\":2},\"yaxis\":{\"backgroundcolor\":\"#E5ECF6\",\"gridcolor\":\"white\",\"linecolor\":\"white\",\"showbackground\":true,\"ticks\":\"\",\"zerolinecolor\":\"white\",\"gridwidth\":2},\"zaxis\":{\"backgroundcolor\":\"#E5ECF6\",\"gridcolor\":\"white\",\"linecolor\":\"white\",\"showbackground\":true,\"ticks\":\"\",\"zerolinecolor\":\"white\",\"gridwidth\":2}},\"shapedefaults\":{\"line\":{\"color\":\"#2a3f5f\"}},\"annotationdefaults\":{\"arrowcolor\":\"#2a3f5f\",\"arrowhead\":0,\"arrowwidth\":1},\"geo\":{\"bgcolor\":\"white\",\"landcolor\":\"#E5ECF6\",\"subunitcolor\":\"white\",\"showland\":true,\"showlakes\":true,\"lakecolor\":\"white\"},\"title\":{\"x\":0.05},\"mapbox\":{\"style\":\"light\"}}},\"legend\":{\"tracegroupgap\":0},\"title\":{\"text\":\"\\u003cb\\u003eShare of Sponsors for All Trials\\u003cb\\u003e\",\"x\":0.5,\"y\":0.9},\"piecolorway\":[\"rgb(95, 70, 144)\",\"rgb(29, 105, 150)\",\"rgb(56, 166, 165)\",\"rgb(15, 133, 84)\",\"rgb(115, 175, 72)\",\"rgb(237, 173, 8)\",\"rgb(225, 124, 5)\",\"rgb(204, 80, 62)\",\"rgb(148, 52, 110)\",\"rgb(111, 64, 112)\"],\"height\":600,\"width\":600,\"showlegend\":false,\"font\":{\"size\":14}},                        {\"responsive\": true}                    ).then(function(){\n",
       "                            \n",
       "var gd = document.getElementById('901a0651-a66d-432b-9bb5-a401b643c3e2');\n",
       "var x = new MutationObserver(function (mutations, observer) {{\n",
       "        var display = window.getComputedStyle(gd).display;\n",
       "        if (!display || display === 'none') {{\n",
       "            console.log([gd, 'removed!']);\n",
       "            Plotly.purge(gd);\n",
       "            observer.disconnect();\n",
       "        }}\n",
       "}});\n",
       "\n",
       "// Listen for the removal of the full notebook cells\n",
       "var notebookContainer = gd.closest('#notebook-container');\n",
       "if (notebookContainer) {{\n",
       "    x.observe(notebookContainer, {childList: true});\n",
       "}}\n",
       "\n",
       "// Listen for the clearing of the current output cell\n",
       "var outputEl = gd.closest('.output');\n",
       "if (outputEl) {{\n",
       "    x.observe(outputEl, {childList: true});\n",
       "}}\n",
       "\n",
       "                        })                };            </script>        </div>"
      ]
     },
     "metadata": {},
     "output_type": "display_data"
    }
   ],
   "source": [
    "color_key = px.colors.qualitative.Prism[0:10]\n",
    "color_mapping = dict(zip(sorted(trials_summary[\"Sponsor\"].unique()), color_key))\n",
    "\n",
    "fig1 = px.pie(data_frame = trials_summary, \n",
    "              values = 'values', \n",
    "              names = \"Sponsor\", \n",
    "              title='<b>Share of Sponsors for All Trials<b>', \n",
    "              color_discrete_sequence = px.colors.qualitative.Prism[0:10],\n",
    "    \n",
    "              width = 600,\n",
    "              height = 600\n",
    "            )\n",
    "\n",
    "fig1.update_traces(textposition = 'inside', \n",
    "                   textinfo = 'label+percent')\n",
    "fig1.update(layout_showlegend = False)\n",
    "fig1.update_layout(title_x = .5, \n",
    "                   title_y = .9, \n",
    "                   font = dict(size = 14))\n",
    "\n",
    "fig1.show()"
   ]
  },
  {
   "cell_type": "markdown",
   "id": "624779c4-5467-42c3-84ac-a1c6c89d0600",
   "metadata": {},
   "source": [
    "### Chi Squared Test"
   ]
  },
  {
   "cell_type": "markdown",
   "id": "fe81b34c-c021-4b83-8643-ab17c2956bba",
   "metadata": {},
   "source": [
    "We will use the Chi Squared Test to see if there is a relationship between two categorical variables.  First, we will look at the relationship between Sponsor and Phase, to see if certain sponsors are more likely to advance to a higher phase. Is condition related to status of the trial?"
   ]
  },
  {
   "cell_type": "code",
   "execution_count": 14,
   "id": "3cef70a4-d186-4925-8a53-b19f4cfa8c1f",
   "metadata": {},
   "outputs": [],
   "source": [
    "import pandas as pd\n",
    "from scipy.stats import chi2_contingency"
   ]
  },
  {
   "cell_type": "code",
   "execution_count": 15,
   "id": "813bfe93-d81e-47ea-85d5-a925a0c2a9fc",
   "metadata": {},
   "outputs": [
    {
     "name": "stdout",
     "output_type": "stream",
     "text": [
      "Phase     Early Phase 1  Phase 1  Phase 1/Phase 2  Phase 2  Phase 2/Phase 3  \\\n",
      "Sponsor                                                                       \n",
      "AbbVie                0       80               13      130                4   \n",
      "Bayer                 0      104               17      168                6   \n",
      "GSK                   0      723               12      684                6   \n",
      "Gilead                0       71               18      152                6   \n",
      "JNJ                   9      177               18      242                9   \n",
      "Merck                 0      364               28      386               15   \n",
      "Novartis              0      264               96      658               43   \n",
      "Pfizer                1      398               37      486               24   \n",
      "Roche                 0      162               29      302                9   \n",
      "Sanofi                0      173               54      388               17   \n",
      "\n",
      "Phase     Phase 3  Phase 4  Unknown  \n",
      "Sponsor                              \n",
      "AbbVie        174       16        0  \n",
      "Bayer         219       80       25  \n",
      "GSK           703      286       59  \n",
      "Gilead        138       28        4  \n",
      "JNJ           451      161       76  \n",
      "Merck         760      205       12  \n",
      "Novartis      829      413       17  \n",
      "Pfizer        654      339       31  \n",
      "Roche         394      172       27  \n",
      "Sanofi        565      315       12  \n"
     ]
    }
   ],
   "source": [
    "contingency = pd.crosstab(trials[\"Sponsor\"], trials[\"Phase\"])\n",
    "print(contingency)"
   ]
  },
  {
   "cell_type": "code",
   "execution_count": 29,
   "id": "4fb111e2-01ed-44aa-afcb-3e5a23a8fab1",
   "metadata": {},
   "outputs": [
    {
     "name": "stdout",
     "output_type": "stream",
     "text": [
      "Expected counts:\n",
      "Phase     Early Phase 1     Phase 1  Phase 1/Phase 2     Phase 2  \\\n",
      "Sponsor                                                            \n",
      "AbbVie         0.303317   76.314518         9.766802  109.072738   \n",
      "Bayer          0.450247  113.282223        14.497963  161.908932   \n",
      "GSK            1.798807  452.579866        57.921589  646.851033   \n",
      "Gilead         0.303317   76.314518         9.766802  109.072738   \n",
      "JNJ            0.831394  209.178644        26.770876  298.969159   \n",
      "Merck          1.287460  323.924935        41.456212  462.970614   \n",
      "Novartis       1.687518  424.579575        54.338086  606.831539   \n",
      "Pfizer         1.432936  360.526622        46.140530  515.283678   \n",
      "Roche          0.796479  200.394239        25.646640  286.414024   \n",
      "Sanofi         1.108525  278.904859        35.694501  398.625546   \n",
      "\n",
      "Phase     Phase 2/Phase 3     Phase 3     Phase 4    Unknown  \n",
      "Sponsor                                                       \n",
      "AbbVie           4.216104  148.230943   61.118344   7.977233  \n",
      "Bayer            6.258438  220.035860   90.724833  11.841504  \n",
      "GSK             25.003419  879.077029  362.459630  47.308627  \n",
      "Gilead           4.216104  148.230943   61.118344   7.977233  \n",
      "JNJ             11.556372  406.302080  167.525822  21.865653  \n",
      "Merck           17.895694  629.181699  259.423189  33.860198  \n",
      "Novartis        23.456503  824.690137  340.034914  44.381728  \n",
      "Pfizer          19.917806  700.275676  288.736543  37.686209  \n",
      "Roche           11.071065  389.239526  160.490617  20.947411  \n",
      "Sanofi          15.408496  541.736107  223.367763  29.154204  \n"
     ]
    }
   ],
   "source": [
    "chi2, p, dof, expected = chi2_contingency(contingency)\n",
    "\n",
    "\n",
    "expected_df = pd.DataFrame(expected, \n",
    "                           index=contingency.index, \n",
    "                           columns=contingency.columns)\n",
    "\n",
    "print(\"Expected counts:\")\n",
    "print(expected_df)"
   ]
  },
  {
   "cell_type": "code",
   "execution_count": 18,
   "id": "70cab67a-3d0b-445a-9ed7-9319c5cb6662",
   "metadata": {},
   "outputs": [
    {
     "name": "stdout",
     "output_type": "stream",
     "text": [
      "Chi2 Statistic: 982.1362690716578\n",
      "Degrees of Freedom: 63\n",
      "p-value: 4.697192094436259e-165\n"
     ]
    }
   ],
   "source": [
    "print(\"Chi2 Statistic:\", chi2)\n",
    "print(\"Degrees of Freedom:\", dof)\n",
    "print(\"p-value:\", p)"
   ]
  },
  {
   "cell_type": "markdown",
   "id": "56b49376-1e29-47eb-8b98-8531788b7abb",
   "metadata": {},
   "source": [
    "The p-value of 4.7 tells us that we fail to reject the null hypothesis: there is no correlation between sponsor and phase number.  We should also check for Sponsors that have expected counts < 1, because the Chi Squared Test will be less reliable in this case.  "
   ]
  },
  {
   "cell_type": "code",
   "execution_count": 28,
   "id": "24ec2390-c5ad-4095-8f25-c0bd2bebe2e4",
   "metadata": {},
   "outputs": [
    {
     "name": "stdout",
     "output_type": "stream",
     "text": [
      "⚠️ Sponsors with >20% of expected counts < 1:\n",
      "Series([], dtype: float64)\n",
      "\n",
      "⚠️ Sponsors with >20% of expected counts < 5:\n",
      "Sponsor\n",
      "AbbVie    25.0\n",
      "Gilead    25.0\n",
      "dtype: float64\n"
     ]
    }
   ],
   "source": [
    "\n",
    "percent_below_1 = (expected_df < 1).sum(axis=1) / expected_df.shape[1] * 100\n",
    "percent_below_5 = (expected_df < 5).sum(axis=1) / expected_df.shape[1] * 100\n",
    "\n",
    "\n",
    "flag_below_1 = percent_below_1[percent_below_1 > 20]\n",
    "\n",
    "\n",
    "flag_below_5 = percent_below_5[percent_below_5 > 20]\n",
    "\n",
    "print(\"⚠️ Sponsors with >20% of expected counts < 1:\")\n",
    "print(flag_below_1)\n",
    "\n",
    "print(\"\\n⚠️ Sponsors with >20% of expected counts < 5:\")\n",
    "print(flag_below_5)\n"
   ]
  },
  {
   "cell_type": "markdown",
   "id": "3aa2589e-59c1-4e8b-a4d5-03c0e6ac7aba",
   "metadata": {},
   "source": [
    "Sponsors AbbVie and Gilead have expected counts less than 5, so the Chi Squared test might be less reliable for looking at correlations in this case."
   ]
  },
  {
   "cell_type": "markdown",
   "id": "a06edd08-fcda-4df9-93cc-72539a87fa89",
   "metadata": {},
   "source": [
    "### Sponsors by phase"
   ]
  },
  {
   "cell_type": "code",
   "execution_count": 69,
   "id": "31efde0b-56a3-4982-8ea9-f6363cfcc2ce",
   "metadata": {},
   "outputs": [
    {
     "data": {
      "text/html": [
       "<div>            <script src=\"https://cdnjs.cloudflare.com/ajax/libs/mathjax/2.7.5/MathJax.js?config=TeX-AMS-MML_SVG\"></script><script type=\"text/javascript\">if (window.MathJax && window.MathJax.Hub && window.MathJax.Hub.Config) {window.MathJax.Hub.Config({SVG: {font: \"STIX-Web\"}});}</script>                <script type=\"text/javascript\">window.PlotlyConfig = {MathJaxConfig: 'local'};</script>\n",
       "        <script charset=\"utf-8\" src=\"https://cdn.plot.ly/plotly-3.1.0.min.js\" integrity=\"sha256-Ei4740bWZhaUTQuD6q9yQlgVCMPBz6CZWhevDYPv93A=\" crossorigin=\"anonymous\"></script>                <div id=\"55a39ee2-6847-4a7c-9fa5-b38460f0e971\" class=\"plotly-graph-div\" style=\"height:525px; width:100%;\"></div>            <script type=\"text/javascript\">                window.PLOTLYENV=window.PLOTLYENV || {};                                if (document.getElementById(\"55a39ee2-6847-4a7c-9fa5-b38460f0e971\")) {                    Plotly.newPlot(                        \"55a39ee2-6847-4a7c-9fa5-b38460f0e971\",                        [{\"alignmentgroup\":\"True\",\"hovertemplate\":\"Phase=Phase 1\\u003cbr\\u003eSponsor=%{x}\\u003cbr\\u003eCount=%{y}\\u003cextra\\u003e\\u003c\\u002fextra\\u003e\",\"legendgroup\":\"Phase 1\",\"marker\":{\"color\":\"#2CA02C\",\"pattern\":{\"shape\":\"\"}},\"name\":\"Phase 1\",\"offsetgroup\":\"Phase 1\",\"orientation\":\"v\",\"showlegend\":true,\"textposition\":\"auto\",\"x\":[\"AbbVie\",\"Bayer\",\"GSK\",\"Gilead\",\"JNJ\",\"Merck\",\"Novartis\",\"Pfizer\",\"Roche\",\"Sanofi\"],\"xaxis\":\"x\",\"y\":{\"dtype\":\"i2\",\"bdata\":\"UABoANMCRwCxAGwBCAGOAaIArQA=\"},\"yaxis\":\"y\",\"type\":\"bar\"},{\"alignmentgroup\":\"True\",\"hovertemplate\":\"Phase=Phase 1\\u002fPhase 2\\u003cbr\\u003eSponsor=%{x}\\u003cbr\\u003eCount=%{y}\\u003cextra\\u003e\\u003c\\u002fextra\\u003e\",\"legendgroup\":\"Phase 1\\u002fPhase 2\",\"marker\":{\"color\":\"#1AC6FF\",\"pattern\":{\"shape\":\"\"}},\"name\":\"Phase 1\\u002fPhase 2\",\"offsetgroup\":\"Phase 1\\u002fPhase 2\",\"orientation\":\"v\",\"showlegend\":true,\"textposition\":\"auto\",\"x\":[\"AbbVie\",\"Bayer\",\"GSK\",\"Gilead\",\"JNJ\",\"Merck\",\"Novartis\",\"Pfizer\",\"Roche\",\"Sanofi\"],\"xaxis\":\"x\",\"y\":{\"dtype\":\"i1\",\"bdata\":\"DREMEhIcYCUdNg==\"},\"yaxis\":\"y\",\"type\":\"bar\"},{\"alignmentgroup\":\"True\",\"hovertemplate\":\"Phase=Phase 2\\u003cbr\\u003eSponsor=%{x}\\u003cbr\\u003eCount=%{y}\\u003cextra\\u003e\\u003c\\u002fextra\\u003e\",\"legendgroup\":\"Phase 2\",\"marker\":{\"color\":\"#FF8000\",\"pattern\":{\"shape\":\"\"}},\"name\":\"Phase 2\",\"offsetgroup\":\"Phase 2\",\"orientation\":\"v\",\"showlegend\":true,\"textposition\":\"auto\",\"x\":[\"AbbVie\",\"Bayer\",\"GSK\",\"Gilead\",\"JNJ\",\"Merck\",\"Novartis\",\"Pfizer\",\"Roche\",\"Sanofi\"],\"xaxis\":\"x\",\"y\":{\"dtype\":\"i2\",\"bdata\":\"ggCoAKwCmADyAIIBkgLmAS4BhAE=\"},\"yaxis\":\"y\",\"type\":\"bar\"},{\"alignmentgroup\":\"True\",\"hovertemplate\":\"Phase=Phase 2\\u002fPhase 3\\u003cbr\\u003eSponsor=%{x}\\u003cbr\\u003eCount=%{y}\\u003cextra\\u003e\\u003c\\u002fextra\\u003e\",\"legendgroup\":\"Phase 2\\u002fPhase 3\",\"marker\":{\"color\":\"#8A2BE2\",\"pattern\":{\"shape\":\"\"}},\"name\":\"Phase 2\\u002fPhase 3\",\"offsetgroup\":\"Phase 2\\u002fPhase 3\",\"orientation\":\"v\",\"showlegend\":true,\"textposition\":\"auto\",\"x\":[\"AbbVie\",\"Bayer\",\"GSK\",\"Gilead\",\"JNJ\",\"Merck\",\"Novartis\",\"Pfizer\",\"Roche\",\"Sanofi\"],\"xaxis\":\"x\",\"y\":{\"dtype\":\"i1\",\"bdata\":\"BAYGBgkPKxgJEQ==\"},\"yaxis\":\"y\",\"type\":\"bar\"},{\"alignmentgroup\":\"True\",\"hovertemplate\":\"Phase=Phase 3\\u003cbr\\u003eSponsor=%{x}\\u003cbr\\u003eCount=%{y}\\u003cextra\\u003e\\u003c\\u002fextra\\u003e\",\"legendgroup\":\"Phase 3\",\"marker\":{\"color\":\"#E31A1C\",\"pattern\":{\"shape\":\"\"}},\"name\":\"Phase 3\",\"offsetgroup\":\"Phase 3\",\"orientation\":\"v\",\"showlegend\":true,\"textposition\":\"auto\",\"x\":[\"AbbVie\",\"Bayer\",\"GSK\",\"Gilead\",\"JNJ\",\"Merck\",\"Novartis\",\"Pfizer\",\"Roche\",\"Sanofi\"],\"xaxis\":\"x\",\"y\":{\"dtype\":\"i2\",\"bdata\":\"rgDbAL8CigDDAfgCPQOOAooBNQI=\"},\"yaxis\":\"y\",\"type\":\"bar\"},{\"alignmentgroup\":\"True\",\"hovertemplate\":\"Phase=Phase 4\\u003cbr\\u003eSponsor=%{x}\\u003cbr\\u003eCount=%{y}\\u003cextra\\u003e\\u003c\\u002fextra\\u003e\",\"legendgroup\":\"Phase 4\",\"marker\":{\"color\":\"#A65628\",\"pattern\":{\"shape\":\"\"}},\"name\":\"Phase 4\",\"offsetgroup\":\"Phase 4\",\"orientation\":\"v\",\"showlegend\":true,\"textposition\":\"auto\",\"x\":[\"AbbVie\",\"Bayer\",\"GSK\",\"Gilead\",\"JNJ\",\"Merck\",\"Novartis\",\"Pfizer\",\"Roche\",\"Sanofi\"],\"xaxis\":\"x\",\"y\":{\"dtype\":\"i2\",\"bdata\":\"EABQAB4BHAChAM0AnQFTAawAOwE=\"},\"yaxis\":\"y\",\"type\":\"bar\"},{\"alignmentgroup\":\"True\",\"hovertemplate\":\"Phase=Unknown\\u003cbr\\u003eSponsor=%{x}\\u003cbr\\u003eCount=%{y}\\u003cextra\\u003e\\u003c\\u002fextra\\u003e\",\"legendgroup\":\"Unknown\",\"marker\":{\"color\":\"#666666\",\"pattern\":{\"shape\":\"\"}},\"name\":\"Unknown\",\"offsetgroup\":\"Unknown\",\"orientation\":\"v\",\"showlegend\":true,\"textposition\":\"auto\",\"x\":[\"Bayer\",\"GSK\",\"Gilead\",\"JNJ\",\"Merck\",\"Novartis\",\"Pfizer\",\"Roche\",\"Sanofi\"],\"xaxis\":\"x\",\"y\":{\"dtype\":\"i1\",\"bdata\":\"GTsETAwRHxsM\"},\"yaxis\":\"y\",\"type\":\"bar\"},{\"alignmentgroup\":\"True\",\"hovertemplate\":\"Phase=Early Phase 1\\u003cbr\\u003eSponsor=%{x}\\u003cbr\\u003eCount=%{y}\\u003cextra\\u003e\\u003c\\u002fextra\\u003e\",\"legendgroup\":\"Early Phase 1\",\"marker\":{\"color\":\"#005AB5\",\"pattern\":{\"shape\":\"\"}},\"name\":\"Early Phase 1\",\"offsetgroup\":\"Early Phase 1\",\"orientation\":\"v\",\"showlegend\":true,\"textposition\":\"auto\",\"x\":[\"JNJ\",\"Pfizer\"],\"xaxis\":\"x\",\"y\":{\"dtype\":\"i1\",\"bdata\":\"CQE=\"},\"yaxis\":\"y\",\"type\":\"bar\"}],                        {\"template\":{\"data\":{\"histogram2dcontour\":[{\"type\":\"histogram2dcontour\",\"colorbar\":{\"outlinewidth\":0,\"ticks\":\"\"},\"colorscale\":[[0.0,\"#0d0887\"],[0.1111111111111111,\"#46039f\"],[0.2222222222222222,\"#7201a8\"],[0.3333333333333333,\"#9c179e\"],[0.4444444444444444,\"#bd3786\"],[0.5555555555555556,\"#d8576b\"],[0.6666666666666666,\"#ed7953\"],[0.7777777777777778,\"#fb9f3a\"],[0.8888888888888888,\"#fdca26\"],[1.0,\"#f0f921\"]]}],\"choropleth\":[{\"type\":\"choropleth\",\"colorbar\":{\"outlinewidth\":0,\"ticks\":\"\"}}],\"histogram2d\":[{\"type\":\"histogram2d\",\"colorbar\":{\"outlinewidth\":0,\"ticks\":\"\"},\"colorscale\":[[0.0,\"#0d0887\"],[0.1111111111111111,\"#46039f\"],[0.2222222222222222,\"#7201a8\"],[0.3333333333333333,\"#9c179e\"],[0.4444444444444444,\"#bd3786\"],[0.5555555555555556,\"#d8576b\"],[0.6666666666666666,\"#ed7953\"],[0.7777777777777778,\"#fb9f3a\"],[0.8888888888888888,\"#fdca26\"],[1.0,\"#f0f921\"]]}],\"heatmap\":[{\"type\":\"heatmap\",\"colorbar\":{\"outlinewidth\":0,\"ticks\":\"\"},\"colorscale\":[[0.0,\"#0d0887\"],[0.1111111111111111,\"#46039f\"],[0.2222222222222222,\"#7201a8\"],[0.3333333333333333,\"#9c179e\"],[0.4444444444444444,\"#bd3786\"],[0.5555555555555556,\"#d8576b\"],[0.6666666666666666,\"#ed7953\"],[0.7777777777777778,\"#fb9f3a\"],[0.8888888888888888,\"#fdca26\"],[1.0,\"#f0f921\"]]}],\"contourcarpet\":[{\"type\":\"contourcarpet\",\"colorbar\":{\"outlinewidth\":0,\"ticks\":\"\"}}],\"contour\":[{\"type\":\"contour\",\"colorbar\":{\"outlinewidth\":0,\"ticks\":\"\"},\"colorscale\":[[0.0,\"#0d0887\"],[0.1111111111111111,\"#46039f\"],[0.2222222222222222,\"#7201a8\"],[0.3333333333333333,\"#9c179e\"],[0.4444444444444444,\"#bd3786\"],[0.5555555555555556,\"#d8576b\"],[0.6666666666666666,\"#ed7953\"],[0.7777777777777778,\"#fb9f3a\"],[0.8888888888888888,\"#fdca26\"],[1.0,\"#f0f921\"]]}],\"surface\":[{\"type\":\"surface\",\"colorbar\":{\"outlinewidth\":0,\"ticks\":\"\"},\"colorscale\":[[0.0,\"#0d0887\"],[0.1111111111111111,\"#46039f\"],[0.2222222222222222,\"#7201a8\"],[0.3333333333333333,\"#9c179e\"],[0.4444444444444444,\"#bd3786\"],[0.5555555555555556,\"#d8576b\"],[0.6666666666666666,\"#ed7953\"],[0.7777777777777778,\"#fb9f3a\"],[0.8888888888888888,\"#fdca26\"],[1.0,\"#f0f921\"]]}],\"mesh3d\":[{\"type\":\"mesh3d\",\"colorbar\":{\"outlinewidth\":0,\"ticks\":\"\"}}],\"scatter\":[{\"fillpattern\":{\"fillmode\":\"overlay\",\"size\":10,\"solidity\":0.2},\"type\":\"scatter\"}],\"parcoords\":[{\"type\":\"parcoords\",\"line\":{\"colorbar\":{\"outlinewidth\":0,\"ticks\":\"\"}}}],\"scatterpolargl\":[{\"type\":\"scatterpolargl\",\"marker\":{\"colorbar\":{\"outlinewidth\":0,\"ticks\":\"\"}}}],\"bar\":[{\"error_x\":{\"color\":\"#2a3f5f\"},\"error_y\":{\"color\":\"#2a3f5f\"},\"marker\":{\"line\":{\"color\":\"#E5ECF6\",\"width\":0.5},\"pattern\":{\"fillmode\":\"overlay\",\"size\":10,\"solidity\":0.2}},\"type\":\"bar\"}],\"scattergeo\":[{\"type\":\"scattergeo\",\"marker\":{\"colorbar\":{\"outlinewidth\":0,\"ticks\":\"\"}}}],\"scatterpolar\":[{\"type\":\"scatterpolar\",\"marker\":{\"colorbar\":{\"outlinewidth\":0,\"ticks\":\"\"}}}],\"histogram\":[{\"marker\":{\"pattern\":{\"fillmode\":\"overlay\",\"size\":10,\"solidity\":0.2}},\"type\":\"histogram\"}],\"scattergl\":[{\"type\":\"scattergl\",\"marker\":{\"colorbar\":{\"outlinewidth\":0,\"ticks\":\"\"}}}],\"scatter3d\":[{\"type\":\"scatter3d\",\"line\":{\"colorbar\":{\"outlinewidth\":0,\"ticks\":\"\"}},\"marker\":{\"colorbar\":{\"outlinewidth\":0,\"ticks\":\"\"}}}],\"scattermap\":[{\"type\":\"scattermap\",\"marker\":{\"colorbar\":{\"outlinewidth\":0,\"ticks\":\"\"}}}],\"scattermapbox\":[{\"type\":\"scattermapbox\",\"marker\":{\"colorbar\":{\"outlinewidth\":0,\"ticks\":\"\"}}}],\"scatterternary\":[{\"type\":\"scatterternary\",\"marker\":{\"colorbar\":{\"outlinewidth\":0,\"ticks\":\"\"}}}],\"scattercarpet\":[{\"type\":\"scattercarpet\",\"marker\":{\"colorbar\":{\"outlinewidth\":0,\"ticks\":\"\"}}}],\"carpet\":[{\"aaxis\":{\"endlinecolor\":\"#2a3f5f\",\"gridcolor\":\"white\",\"linecolor\":\"white\",\"minorgridcolor\":\"white\",\"startlinecolor\":\"#2a3f5f\"},\"baxis\":{\"endlinecolor\":\"#2a3f5f\",\"gridcolor\":\"white\",\"linecolor\":\"white\",\"minorgridcolor\":\"white\",\"startlinecolor\":\"#2a3f5f\"},\"type\":\"carpet\"}],\"table\":[{\"cells\":{\"fill\":{\"color\":\"#EBF0F8\"},\"line\":{\"color\":\"white\"}},\"header\":{\"fill\":{\"color\":\"#C8D4E3\"},\"line\":{\"color\":\"white\"}},\"type\":\"table\"}],\"barpolar\":[{\"marker\":{\"line\":{\"color\":\"#E5ECF6\",\"width\":0.5},\"pattern\":{\"fillmode\":\"overlay\",\"size\":10,\"solidity\":0.2}},\"type\":\"barpolar\"}],\"pie\":[{\"automargin\":true,\"type\":\"pie\"}]},\"layout\":{\"autotypenumbers\":\"strict\",\"colorway\":[\"#636efa\",\"#EF553B\",\"#00cc96\",\"#ab63fa\",\"#FFA15A\",\"#19d3f3\",\"#FF6692\",\"#B6E880\",\"#FF97FF\",\"#FECB52\"],\"font\":{\"color\":\"#2a3f5f\"},\"hovermode\":\"closest\",\"hoverlabel\":{\"align\":\"left\"},\"paper_bgcolor\":\"white\",\"plot_bgcolor\":\"#E5ECF6\",\"polar\":{\"bgcolor\":\"#E5ECF6\",\"angularaxis\":{\"gridcolor\":\"white\",\"linecolor\":\"white\",\"ticks\":\"\"},\"radialaxis\":{\"gridcolor\":\"white\",\"linecolor\":\"white\",\"ticks\":\"\"}},\"ternary\":{\"bgcolor\":\"#E5ECF6\",\"aaxis\":{\"gridcolor\":\"white\",\"linecolor\":\"white\",\"ticks\":\"\"},\"baxis\":{\"gridcolor\":\"white\",\"linecolor\":\"white\",\"ticks\":\"\"},\"caxis\":{\"gridcolor\":\"white\",\"linecolor\":\"white\",\"ticks\":\"\"}},\"coloraxis\":{\"colorbar\":{\"outlinewidth\":0,\"ticks\":\"\"}},\"colorscale\":{\"sequential\":[[0.0,\"#0d0887\"],[0.1111111111111111,\"#46039f\"],[0.2222222222222222,\"#7201a8\"],[0.3333333333333333,\"#9c179e\"],[0.4444444444444444,\"#bd3786\"],[0.5555555555555556,\"#d8576b\"],[0.6666666666666666,\"#ed7953\"],[0.7777777777777778,\"#fb9f3a\"],[0.8888888888888888,\"#fdca26\"],[1.0,\"#f0f921\"]],\"sequentialminus\":[[0.0,\"#0d0887\"],[0.1111111111111111,\"#46039f\"],[0.2222222222222222,\"#7201a8\"],[0.3333333333333333,\"#9c179e\"],[0.4444444444444444,\"#bd3786\"],[0.5555555555555556,\"#d8576b\"],[0.6666666666666666,\"#ed7953\"],[0.7777777777777778,\"#fb9f3a\"],[0.8888888888888888,\"#fdca26\"],[1.0,\"#f0f921\"]],\"diverging\":[[0,\"#8e0152\"],[0.1,\"#c51b7d\"],[0.2,\"#de77ae\"],[0.3,\"#f1b6da\"],[0.4,\"#fde0ef\"],[0.5,\"#f7f7f7\"],[0.6,\"#e6f5d0\"],[0.7,\"#b8e186\"],[0.8,\"#7fbc41\"],[0.9,\"#4d9221\"],[1,\"#276419\"]]},\"xaxis\":{\"gridcolor\":\"white\",\"linecolor\":\"white\",\"ticks\":\"\",\"title\":{\"standoff\":15},\"zerolinecolor\":\"white\",\"automargin\":true,\"zerolinewidth\":2},\"yaxis\":{\"gridcolor\":\"white\",\"linecolor\":\"white\",\"ticks\":\"\",\"title\":{\"standoff\":15},\"zerolinecolor\":\"white\",\"automargin\":true,\"zerolinewidth\":2},\"scene\":{\"xaxis\":{\"backgroundcolor\":\"#E5ECF6\",\"gridcolor\":\"white\",\"linecolor\":\"white\",\"showbackground\":true,\"ticks\":\"\",\"zerolinecolor\":\"white\",\"gridwidth\":2},\"yaxis\":{\"backgroundcolor\":\"#E5ECF6\",\"gridcolor\":\"white\",\"linecolor\":\"white\",\"showbackground\":true,\"ticks\":\"\",\"zerolinecolor\":\"white\",\"gridwidth\":2},\"zaxis\":{\"backgroundcolor\":\"#E5ECF6\",\"gridcolor\":\"white\",\"linecolor\":\"white\",\"showbackground\":true,\"ticks\":\"\",\"zerolinecolor\":\"white\",\"gridwidth\":2}},\"shapedefaults\":{\"line\":{\"color\":\"#2a3f5f\"}},\"annotationdefaults\":{\"arrowcolor\":\"#2a3f5f\",\"arrowhead\":0,\"arrowwidth\":1},\"geo\":{\"bgcolor\":\"white\",\"landcolor\":\"#E5ECF6\",\"subunitcolor\":\"white\",\"showland\":true,\"showlakes\":true,\"lakecolor\":\"white\"},\"title\":{\"x\":0.05},\"mapbox\":{\"style\":\"light\"}}},\"xaxis\":{\"anchor\":\"y\",\"domain\":[0.0,1.0],\"title\":{\"text\":\"Sponsor\"},\"showgrid\":false},\"yaxis\":{\"anchor\":\"x\",\"domain\":[0.0,1.0],\"title\":{\"text\":\"Count\"},\"showgrid\":true,\"gridcolor\":\"lightgray\"},\"legend\":{\"title\":{\"text\":\"Phase\"},\"tracegroupgap\":0},\"title\":{\"text\":\"Number of Trials per Sponsor by Phase\"},\"barmode\":\"group\",\"font\":{\"size\":14,\"color\":\"black\"},\"plot_bgcolor\":\"white\",\"paper_bgcolor\":\"white\"},                        {\"responsive\": true}                    ).then(function(){\n",
       "                            \n",
       "var gd = document.getElementById('55a39ee2-6847-4a7c-9fa5-b38460f0e971');\n",
       "var x = new MutationObserver(function (mutations, observer) {{\n",
       "        var display = window.getComputedStyle(gd).display;\n",
       "        if (!display || display === 'none') {{\n",
       "            console.log([gd, 'removed!']);\n",
       "            Plotly.purge(gd);\n",
       "            observer.disconnect();\n",
       "        }}\n",
       "}});\n",
       "\n",
       "// Listen for the removal of the full notebook cells\n",
       "var notebookContainer = gd.closest('#notebook-container');\n",
       "if (notebookContainer) {{\n",
       "    x.observe(notebookContainer, {childList: true});\n",
       "}}\n",
       "\n",
       "// Listen for the clearing of the current output cell\n",
       "var outputEl = gd.closest('.output');\n",
       "if (outputEl) {{\n",
       "    x.observe(outputEl, {childList: true});\n",
       "}}\n",
       "\n",
       "                        })                };            </script>        </div>"
      ]
     },
     "metadata": {},
     "output_type": "display_data"
    }
   ],
   "source": [
    "import plotly.express as px\n",
    "import pandas as pd  # Ensure pandas is imported for groupby\n",
    "\n",
    "\n",
    "phase_colors = {\n",
    "    \"Early Phase 1\": \"#005AB5\",   \n",
    "    \"Phase 1\": \"#2CA02C\",       \n",
    "    \"Phase 1/Phase 2\": \"#1AC6FF\", \n",
    "    \"Phase 2\": \"#FF8000\",         \n",
    "    \"Phase 2/Phase 3\": \"#8A2BE2\", \n",
    "    \"Phase 3\": \"#E31A1C\",         \n",
    "    \"Phase 4\": \"#A65628\",         \n",
    "    \"Unknown\": \"#666666\"          \n",
    "}\n",
    "\n",
    "\n",
    "trials_agg = trials.groupby(['Sponsor', 'Phase']).size().reset_index(name='Count')\n",
    "\n",
    "\n",
    "fig = px.bar(\n",
    "    trials_agg, \n",
    "    x=\"Sponsor\",\n",
    "    y=\"Count\",  \n",
    "    color=\"Phase\",\n",
    "    title=\"Number of Trials per Sponsor by Phase\",\n",
    "    barmode=\"group\",\n",
    "    color_discrete_map=phase_colors\n",
    ")\n",
    "\n",
    "fig.update_layout(\n",
    "    plot_bgcolor=\"white\",\n",
    "    paper_bgcolor=\"white\",\n",
    "    xaxis=dict(showgrid=False),\n",
    "    yaxis=dict(showgrid=True, gridcolor=\"lightgray\"),\n",
    "    font=dict(size=14, color=\"black\"),\n",
    "    legend_title=\"Phase\"\n",
    ")\n",
    "\n",
    "fig.show()"
   ]
  },
  {
   "cell_type": "markdown",
   "id": "32dc9598-d416-4e5b-aa4d-a5bd385aee89",
   "metadata": {},
   "source": [
    "### Conditions Studied"
   ]
  },
  {
   "cell_type": "code",
   "execution_count": 56,
   "id": "b40bc322-996d-4d1e-b209-7c03df198920",
   "metadata": {},
   "outputs": [
    {
     "data": {
      "text/html": [
       "<div>            <script src=\"https://cdnjs.cloudflare.com/ajax/libs/mathjax/2.7.5/MathJax.js?config=TeX-AMS-MML_SVG\"></script><script type=\"text/javascript\">if (window.MathJax && window.MathJax.Hub && window.MathJax.Hub.Config) {window.MathJax.Hub.Config({SVG: {font: \"STIX-Web\"}});}</script>                <script type=\"text/javascript\">window.PlotlyConfig = {MathJaxConfig: 'local'};</script>\n",
       "        <script charset=\"utf-8\" src=\"https://cdn.plot.ly/plotly-3.1.0.min.js\" integrity=\"sha256-Ei4740bWZhaUTQuD6q9yQlgVCMPBz6CZWhevDYPv93A=\" crossorigin=\"anonymous\"></script>                <div id=\"a6f3ff83-bcb6-494c-b4b6-c0366e54d2ed\" class=\"plotly-graph-div\" style=\"height:525px; width:100%;\"></div>            <script type=\"text/javascript\">                window.PLOTLYENV=window.PLOTLYENV || {};                                if (document.getElementById(\"a6f3ff83-bcb6-494c-b4b6-c0366e54d2ed\")) {                    Plotly.newPlot(                        \"a6f3ff83-bcb6-494c-b4b6-c0366e54d2ed\",                        [{\"hovertemplate\":\"Condition=%{x}\\u003cbr\\u003eCount=%{y}\\u003cextra\\u003e\\u003c\\u002fextra\\u003e\",\"legendgroup\":\"Diabetes Mellitus, Type 2\",\"marker\":{\"color\":\"rgb(102,194,165)\",\"pattern\":{\"shape\":\"\"}},\"name\":\"Diabetes Mellitus, Type 2\",\"orientation\":\"v\",\"showlegend\":true,\"textposition\":\"auto\",\"x\":[\"Diabetes Mellitus, Type 2\"],\"xaxis\":\"x\",\"y\":{\"dtype\":\"i2\",\"bdata\":\"GAI=\"},\"yaxis\":\"y\",\"type\":\"bar\"},{\"hovertemplate\":\"Condition=%{x}\\u003cbr\\u003eCount=%{y}\\u003cextra\\u003e\\u003c\\u002fextra\\u003e\",\"legendgroup\":\"Breast Neoplasms\",\"marker\":{\"color\":\"rgb(252,141,98)\",\"pattern\":{\"shape\":\"\"}},\"name\":\"Breast Neoplasms\",\"orientation\":\"v\",\"showlegend\":true,\"textposition\":\"auto\",\"x\":[\"Breast Neoplasms\"],\"xaxis\":\"x\",\"y\":{\"dtype\":\"i2\",\"bdata\":\"hAE=\"},\"yaxis\":\"y\",\"type\":\"bar\"},{\"hovertemplate\":\"Condition=%{x}\\u003cbr\\u003eCount=%{y}\\u003cextra\\u003e\\u003c\\u002fextra\\u003e\",\"legendgroup\":\"Pulmonary Disease, Chronic Obstructive\",\"marker\":{\"color\":\"rgb(141,160,203)\",\"pattern\":{\"shape\":\"\"}},\"name\":\"Pulmonary Disease, Chronic Obstructive\",\"orientation\":\"v\",\"showlegend\":true,\"textposition\":\"auto\",\"x\":[\"Pulmonary Disease, Chronic Obstructive\"],\"xaxis\":\"x\",\"y\":{\"dtype\":\"i2\",\"bdata\":\"UwE=\"},\"yaxis\":\"y\",\"type\":\"bar\"},{\"hovertemplate\":\"Condition=%{x}\\u003cbr\\u003eCount=%{y}\\u003cextra\\u003e\\u003c\\u002fextra\\u003e\",\"legendgroup\":\"Hypertension\",\"marker\":{\"color\":\"rgb(231,138,195)\",\"pattern\":{\"shape\":\"\"}},\"name\":\"Hypertension\",\"orientation\":\"v\",\"showlegend\":true,\"textposition\":\"auto\",\"x\":[\"Hypertension\"],\"xaxis\":\"x\",\"y\":{\"dtype\":\"i2\",\"bdata\":\"UgE=\"},\"yaxis\":\"y\",\"type\":\"bar\"},{\"hovertemplate\":\"Condition=%{x}\\u003cbr\\u003eCount=%{y}\\u003cextra\\u003e\\u003c\\u002fextra\\u003e\",\"legendgroup\":\"Asthma\",\"marker\":{\"color\":\"rgb(166,216,84)\",\"pattern\":{\"shape\":\"\"}},\"name\":\"Asthma\",\"orientation\":\"v\",\"showlegend\":true,\"textposition\":\"auto\",\"x\":[\"Asthma\"],\"xaxis\":\"x\",\"y\":{\"dtype\":\"i2\",\"bdata\":\"TgE=\"},\"yaxis\":\"y\",\"type\":\"bar\"},{\"hovertemplate\":\"Condition=%{x}\\u003cbr\\u003eCount=%{y}\\u003cextra\\u003e\\u003c\\u002fextra\\u003e\",\"legendgroup\":\"Arthritis, Rheumatoid\",\"marker\":{\"color\":\"rgb(255,217,47)\",\"pattern\":{\"shape\":\"\"}},\"name\":\"Arthritis, Rheumatoid\",\"orientation\":\"v\",\"showlegend\":true,\"textposition\":\"auto\",\"x\":[\"Arthritis, Rheumatoid\"],\"xaxis\":\"x\",\"y\":{\"dtype\":\"i2\",\"bdata\":\"TQE=\"},\"yaxis\":\"y\",\"type\":\"bar\"},{\"hovertemplate\":\"Condition=%{x}\\u003cbr\\u003eCount=%{y}\\u003cextra\\u003e\\u003c\\u002fextra\\u003e\",\"legendgroup\":\"Influenza, Human\",\"marker\":{\"color\":\"rgb(229,196,148)\",\"pattern\":{\"shape\":\"\"}},\"name\":\"Influenza, Human\",\"orientation\":\"v\",\"showlegend\":true,\"textposition\":\"auto\",\"x\":[\"Influenza, Human\"],\"xaxis\":\"x\",\"y\":{\"dtype\":\"i2\",\"bdata\":\"RAE=\"},\"yaxis\":\"y\",\"type\":\"bar\"},{\"hovertemplate\":\"Condition=%{x}\\u003cbr\\u003eCount=%{y}\\u003cextra\\u003e\\u003c\\u002fextra\\u003e\",\"legendgroup\":\"Schizophrenia\",\"marker\":{\"color\":\"rgb(179,179,179)\",\"pattern\":{\"shape\":\"\"}},\"name\":\"Schizophrenia\",\"orientation\":\"v\",\"showlegend\":true,\"textposition\":\"auto\",\"x\":[\"Schizophrenia\"],\"xaxis\":\"x\",\"y\":{\"dtype\":\"i2\",\"bdata\":\"JAE=\"},\"yaxis\":\"y\",\"type\":\"bar\"},{\"hovertemplate\":\"Condition=%{x}\\u003cbr\\u003eCount=%{y}\\u003cextra\\u003e\\u003c\\u002fextra\\u003e\",\"legendgroup\":\"Diabetes Mellitus\",\"marker\":{\"color\":\"rgb(102,194,165)\",\"pattern\":{\"shape\":\"\"}},\"name\":\"Diabetes Mellitus\",\"orientation\":\"v\",\"showlegend\":true,\"textposition\":\"auto\",\"x\":[\"Diabetes Mellitus\"],\"xaxis\":\"x\",\"y\":{\"dtype\":\"i2\",\"bdata\":\"DgE=\"},\"yaxis\":\"y\",\"type\":\"bar\"},{\"hovertemplate\":\"Condition=%{x}\\u003cbr\\u003eCount=%{y}\\u003cextra\\u003e\\u003c\\u002fextra\\u003e\",\"legendgroup\":\"Alzheimer Disease\",\"marker\":{\"color\":\"rgb(252,141,98)\",\"pattern\":{\"shape\":\"\"}},\"name\":\"Alzheimer Disease\",\"orientation\":\"v\",\"showlegend\":true,\"textposition\":\"auto\",\"x\":[\"Alzheimer Disease\"],\"xaxis\":\"x\",\"y\":{\"dtype\":\"i2\",\"bdata\":\"2gA=\"},\"yaxis\":\"y\",\"type\":\"bar\"},{\"hovertemplate\":\"Condition=%{x}\\u003cbr\\u003eCount=%{y}\\u003cextra\\u003e\\u003c\\u002fextra\\u003e\",\"legendgroup\":\"Lung Neoplasms\",\"marker\":{\"color\":\"rgb(141,160,203)\",\"pattern\":{\"shape\":\"\"}},\"name\":\"Lung Neoplasms\",\"orientation\":\"v\",\"showlegend\":true,\"textposition\":\"auto\",\"x\":[\"Lung Neoplasms\"],\"xaxis\":\"x\",\"y\":{\"dtype\":\"i2\",\"bdata\":\"1gA=\"},\"yaxis\":\"y\",\"type\":\"bar\"},{\"hovertemplate\":\"Condition=%{x}\\u003cbr\\u003eCount=%{y}\\u003cextra\\u003e\\u003c\\u002fextra\\u003e\",\"legendgroup\":\"Hepatitis\",\"marker\":{\"color\":\"rgb(231,138,195)\",\"pattern\":{\"shape\":\"\"}},\"name\":\"Hepatitis\",\"orientation\":\"v\",\"showlegend\":true,\"textposition\":\"auto\",\"x\":[\"Hepatitis\"],\"xaxis\":\"x\",\"y\":{\"dtype\":\"i2\",\"bdata\":\"yAA=\"},\"yaxis\":\"y\",\"type\":\"bar\"},{\"hovertemplate\":\"Condition=%{x}\\u003cbr\\u003eCount=%{y}\\u003cextra\\u003e\\u003c\\u002fextra\\u003e\",\"legendgroup\":\"Psoriasis\",\"marker\":{\"color\":\"rgb(166,216,84)\",\"pattern\":{\"shape\":\"\"}},\"name\":\"Psoriasis\",\"orientation\":\"v\",\"showlegend\":true,\"textposition\":\"auto\",\"x\":[\"Psoriasis\"],\"xaxis\":\"x\",\"y\":{\"dtype\":\"i2\",\"bdata\":\"tAA=\"},\"yaxis\":\"y\",\"type\":\"bar\"},{\"hovertemplate\":\"Condition=%{x}\\u003cbr\\u003eCount=%{y}\\u003cextra\\u003e\\u003c\\u002fextra\\u003e\",\"legendgroup\":\"HIV Infections\",\"marker\":{\"color\":\"rgb(255,217,47)\",\"pattern\":{\"shape\":\"\"}},\"name\":\"HIV Infections\",\"orientation\":\"v\",\"showlegend\":true,\"textposition\":\"auto\",\"x\":[\"HIV Infections\"],\"xaxis\":\"x\",\"y\":{\"dtype\":\"i2\",\"bdata\":\"pgA=\"},\"yaxis\":\"y\",\"type\":\"bar\"},{\"hovertemplate\":\"Condition=%{x}\\u003cbr\\u003eCount=%{y}\\u003cextra\\u003e\\u003c\\u002fextra\\u003e\",\"legendgroup\":\"Hypercholesterolemia\",\"marker\":{\"color\":\"rgb(229,196,148)\",\"pattern\":{\"shape\":\"\"}},\"name\":\"Hypercholesterolemia\",\"orientation\":\"v\",\"showlegend\":true,\"textposition\":\"auto\",\"x\":[\"Hypercholesterolemia\"],\"xaxis\":\"x\",\"y\":{\"dtype\":\"i2\",\"bdata\":\"ngA=\"},\"yaxis\":\"y\",\"type\":\"bar\"},{\"hovertemplate\":\"Condition=%{x}\\u003cbr\\u003eCount=%{y}\\u003cextra\\u003e\\u003c\\u002fextra\\u003e\",\"legendgroup\":\"Multiple Myeloma\",\"marker\":{\"color\":\"rgb(179,179,179)\",\"pattern\":{\"shape\":\"\"}},\"name\":\"Multiple Myeloma\",\"orientation\":\"v\",\"showlegend\":true,\"textposition\":\"auto\",\"x\":[\"Multiple Myeloma\"],\"xaxis\":\"x\",\"y\":{\"dtype\":\"i2\",\"bdata\":\"iwA=\"},\"yaxis\":\"y\",\"type\":\"bar\"},{\"hovertemplate\":\"Condition=%{x}\\u003cbr\\u003eCount=%{y}\\u003cextra\\u003e\\u003c\\u002fextra\\u003e\",\"legendgroup\":\"Prostatic Neoplasms\",\"marker\":{\"color\":\"rgb(102,194,165)\",\"pattern\":{\"shape\":\"\"}},\"name\":\"Prostatic Neoplasms\",\"orientation\":\"v\",\"showlegend\":true,\"textposition\":\"auto\",\"x\":[\"Prostatic Neoplasms\"],\"xaxis\":\"x\",\"y\":{\"dtype\":\"i2\",\"bdata\":\"iAA=\"},\"yaxis\":\"y\",\"type\":\"bar\"},{\"hovertemplate\":\"Condition=%{x}\\u003cbr\\u003eCount=%{y}\\u003cextra\\u003e\\u003c\\u002fextra\\u003e\",\"legendgroup\":\"Hepatitis B\",\"marker\":{\"color\":\"rgb(252,141,98)\",\"pattern\":{\"shape\":\"\"}},\"name\":\"Hepatitis B\",\"orientation\":\"v\",\"showlegend\":true,\"textposition\":\"auto\",\"x\":[\"Hepatitis B\"],\"xaxis\":\"x\",\"y\":{\"dtype\":\"i2\",\"bdata\":\"hwA=\"},\"yaxis\":\"y\",\"type\":\"bar\"},{\"hovertemplate\":\"Condition=%{x}\\u003cbr\\u003eCount=%{y}\\u003cextra\\u003e\\u003c\\u002fextra\\u003e\",\"legendgroup\":\"Infection\",\"marker\":{\"color\":\"rgb(141,160,203)\",\"pattern\":{\"shape\":\"\"}},\"name\":\"Infection\",\"orientation\":\"v\",\"showlegend\":true,\"textposition\":\"auto\",\"x\":[\"Infection\"],\"xaxis\":\"x\",\"y\":{\"dtype\":\"i2\",\"bdata\":\"hgA=\"},\"yaxis\":\"y\",\"type\":\"bar\"},{\"hovertemplate\":\"Condition=%{x}\\u003cbr\\u003eCount=%{y}\\u003cextra\\u003e\\u003c\\u002fextra\\u003e\",\"legendgroup\":\"Colorectal Neoplasms\",\"marker\":{\"color\":\"rgb(231,138,195)\",\"pattern\":{\"shape\":\"\"}},\"name\":\"Colorectal Neoplasms\",\"orientation\":\"v\",\"showlegend\":true,\"textposition\":\"auto\",\"x\":[\"Colorectal Neoplasms\"],\"xaxis\":\"x\",\"y\":{\"dtype\":\"i2\",\"bdata\":\"hgA=\"},\"yaxis\":\"y\",\"type\":\"bar\"}],                        {\"template\":{\"data\":{\"histogram2dcontour\":[{\"type\":\"histogram2dcontour\",\"colorbar\":{\"outlinewidth\":0,\"ticks\":\"\"},\"colorscale\":[[0.0,\"#0d0887\"],[0.1111111111111111,\"#46039f\"],[0.2222222222222222,\"#7201a8\"],[0.3333333333333333,\"#9c179e\"],[0.4444444444444444,\"#bd3786\"],[0.5555555555555556,\"#d8576b\"],[0.6666666666666666,\"#ed7953\"],[0.7777777777777778,\"#fb9f3a\"],[0.8888888888888888,\"#fdca26\"],[1.0,\"#f0f921\"]]}],\"choropleth\":[{\"type\":\"choropleth\",\"colorbar\":{\"outlinewidth\":0,\"ticks\":\"\"}}],\"histogram2d\":[{\"type\":\"histogram2d\",\"colorbar\":{\"outlinewidth\":0,\"ticks\":\"\"},\"colorscale\":[[0.0,\"#0d0887\"],[0.1111111111111111,\"#46039f\"],[0.2222222222222222,\"#7201a8\"],[0.3333333333333333,\"#9c179e\"],[0.4444444444444444,\"#bd3786\"],[0.5555555555555556,\"#d8576b\"],[0.6666666666666666,\"#ed7953\"],[0.7777777777777778,\"#fb9f3a\"],[0.8888888888888888,\"#fdca26\"],[1.0,\"#f0f921\"]]}],\"heatmap\":[{\"type\":\"heatmap\",\"colorbar\":{\"outlinewidth\":0,\"ticks\":\"\"},\"colorscale\":[[0.0,\"#0d0887\"],[0.1111111111111111,\"#46039f\"],[0.2222222222222222,\"#7201a8\"],[0.3333333333333333,\"#9c179e\"],[0.4444444444444444,\"#bd3786\"],[0.5555555555555556,\"#d8576b\"],[0.6666666666666666,\"#ed7953\"],[0.7777777777777778,\"#fb9f3a\"],[0.8888888888888888,\"#fdca26\"],[1.0,\"#f0f921\"]]}],\"contourcarpet\":[{\"type\":\"contourcarpet\",\"colorbar\":{\"outlinewidth\":0,\"ticks\":\"\"}}],\"contour\":[{\"type\":\"contour\",\"colorbar\":{\"outlinewidth\":0,\"ticks\":\"\"},\"colorscale\":[[0.0,\"#0d0887\"],[0.1111111111111111,\"#46039f\"],[0.2222222222222222,\"#7201a8\"],[0.3333333333333333,\"#9c179e\"],[0.4444444444444444,\"#bd3786\"],[0.5555555555555556,\"#d8576b\"],[0.6666666666666666,\"#ed7953\"],[0.7777777777777778,\"#fb9f3a\"],[0.8888888888888888,\"#fdca26\"],[1.0,\"#f0f921\"]]}],\"surface\":[{\"type\":\"surface\",\"colorbar\":{\"outlinewidth\":0,\"ticks\":\"\"},\"colorscale\":[[0.0,\"#0d0887\"],[0.1111111111111111,\"#46039f\"],[0.2222222222222222,\"#7201a8\"],[0.3333333333333333,\"#9c179e\"],[0.4444444444444444,\"#bd3786\"],[0.5555555555555556,\"#d8576b\"],[0.6666666666666666,\"#ed7953\"],[0.7777777777777778,\"#fb9f3a\"],[0.8888888888888888,\"#fdca26\"],[1.0,\"#f0f921\"]]}],\"mesh3d\":[{\"type\":\"mesh3d\",\"colorbar\":{\"outlinewidth\":0,\"ticks\":\"\"}}],\"scatter\":[{\"fillpattern\":{\"fillmode\":\"overlay\",\"size\":10,\"solidity\":0.2},\"type\":\"scatter\"}],\"parcoords\":[{\"type\":\"parcoords\",\"line\":{\"colorbar\":{\"outlinewidth\":0,\"ticks\":\"\"}}}],\"scatterpolargl\":[{\"type\":\"scatterpolargl\",\"marker\":{\"colorbar\":{\"outlinewidth\":0,\"ticks\":\"\"}}}],\"bar\":[{\"error_x\":{\"color\":\"#2a3f5f\"},\"error_y\":{\"color\":\"#2a3f5f\"},\"marker\":{\"line\":{\"color\":\"#E5ECF6\",\"width\":0.5},\"pattern\":{\"fillmode\":\"overlay\",\"size\":10,\"solidity\":0.2}},\"type\":\"bar\"}],\"scattergeo\":[{\"type\":\"scattergeo\",\"marker\":{\"colorbar\":{\"outlinewidth\":0,\"ticks\":\"\"}}}],\"scatterpolar\":[{\"type\":\"scatterpolar\",\"marker\":{\"colorbar\":{\"outlinewidth\":0,\"ticks\":\"\"}}}],\"histogram\":[{\"marker\":{\"pattern\":{\"fillmode\":\"overlay\",\"size\":10,\"solidity\":0.2}},\"type\":\"histogram\"}],\"scattergl\":[{\"type\":\"scattergl\",\"marker\":{\"colorbar\":{\"outlinewidth\":0,\"ticks\":\"\"}}}],\"scatter3d\":[{\"type\":\"scatter3d\",\"line\":{\"colorbar\":{\"outlinewidth\":0,\"ticks\":\"\"}},\"marker\":{\"colorbar\":{\"outlinewidth\":0,\"ticks\":\"\"}}}],\"scattermap\":[{\"type\":\"scattermap\",\"marker\":{\"colorbar\":{\"outlinewidth\":0,\"ticks\":\"\"}}}],\"scattermapbox\":[{\"type\":\"scattermapbox\",\"marker\":{\"colorbar\":{\"outlinewidth\":0,\"ticks\":\"\"}}}],\"scatterternary\":[{\"type\":\"scatterternary\",\"marker\":{\"colorbar\":{\"outlinewidth\":0,\"ticks\":\"\"}}}],\"scattercarpet\":[{\"type\":\"scattercarpet\",\"marker\":{\"colorbar\":{\"outlinewidth\":0,\"ticks\":\"\"}}}],\"carpet\":[{\"aaxis\":{\"endlinecolor\":\"#2a3f5f\",\"gridcolor\":\"white\",\"linecolor\":\"white\",\"minorgridcolor\":\"white\",\"startlinecolor\":\"#2a3f5f\"},\"baxis\":{\"endlinecolor\":\"#2a3f5f\",\"gridcolor\":\"white\",\"linecolor\":\"white\",\"minorgridcolor\":\"white\",\"startlinecolor\":\"#2a3f5f\"},\"type\":\"carpet\"}],\"table\":[{\"cells\":{\"fill\":{\"color\":\"#EBF0F8\"},\"line\":{\"color\":\"white\"}},\"header\":{\"fill\":{\"color\":\"#C8D4E3\"},\"line\":{\"color\":\"white\"}},\"type\":\"table\"}],\"barpolar\":[{\"marker\":{\"line\":{\"color\":\"#E5ECF6\",\"width\":0.5},\"pattern\":{\"fillmode\":\"overlay\",\"size\":10,\"solidity\":0.2}},\"type\":\"barpolar\"}],\"pie\":[{\"automargin\":true,\"type\":\"pie\"}]},\"layout\":{\"autotypenumbers\":\"strict\",\"colorway\":[\"#636efa\",\"#EF553B\",\"#00cc96\",\"#ab63fa\",\"#FFA15A\",\"#19d3f3\",\"#FF6692\",\"#B6E880\",\"#FF97FF\",\"#FECB52\"],\"font\":{\"color\":\"#2a3f5f\"},\"hovermode\":\"closest\",\"hoverlabel\":{\"align\":\"left\"},\"paper_bgcolor\":\"white\",\"plot_bgcolor\":\"#E5ECF6\",\"polar\":{\"bgcolor\":\"#E5ECF6\",\"angularaxis\":{\"gridcolor\":\"white\",\"linecolor\":\"white\",\"ticks\":\"\"},\"radialaxis\":{\"gridcolor\":\"white\",\"linecolor\":\"white\",\"ticks\":\"\"}},\"ternary\":{\"bgcolor\":\"#E5ECF6\",\"aaxis\":{\"gridcolor\":\"white\",\"linecolor\":\"white\",\"ticks\":\"\"},\"baxis\":{\"gridcolor\":\"white\",\"linecolor\":\"white\",\"ticks\":\"\"},\"caxis\":{\"gridcolor\":\"white\",\"linecolor\":\"white\",\"ticks\":\"\"}},\"coloraxis\":{\"colorbar\":{\"outlinewidth\":0,\"ticks\":\"\"}},\"colorscale\":{\"sequential\":[[0.0,\"#0d0887\"],[0.1111111111111111,\"#46039f\"],[0.2222222222222222,\"#7201a8\"],[0.3333333333333333,\"#9c179e\"],[0.4444444444444444,\"#bd3786\"],[0.5555555555555556,\"#d8576b\"],[0.6666666666666666,\"#ed7953\"],[0.7777777777777778,\"#fb9f3a\"],[0.8888888888888888,\"#fdca26\"],[1.0,\"#f0f921\"]],\"sequentialminus\":[[0.0,\"#0d0887\"],[0.1111111111111111,\"#46039f\"],[0.2222222222222222,\"#7201a8\"],[0.3333333333333333,\"#9c179e\"],[0.4444444444444444,\"#bd3786\"],[0.5555555555555556,\"#d8576b\"],[0.6666666666666666,\"#ed7953\"],[0.7777777777777778,\"#fb9f3a\"],[0.8888888888888888,\"#fdca26\"],[1.0,\"#f0f921\"]],\"diverging\":[[0,\"#8e0152\"],[0.1,\"#c51b7d\"],[0.2,\"#de77ae\"],[0.3,\"#f1b6da\"],[0.4,\"#fde0ef\"],[0.5,\"#f7f7f7\"],[0.6,\"#e6f5d0\"],[0.7,\"#b8e186\"],[0.8,\"#7fbc41\"],[0.9,\"#4d9221\"],[1,\"#276419\"]]},\"xaxis\":{\"gridcolor\":\"white\",\"linecolor\":\"white\",\"ticks\":\"\",\"title\":{\"standoff\":15},\"zerolinecolor\":\"white\",\"automargin\":true,\"zerolinewidth\":2},\"yaxis\":{\"gridcolor\":\"white\",\"linecolor\":\"white\",\"ticks\":\"\",\"title\":{\"standoff\":15},\"zerolinecolor\":\"white\",\"automargin\":true,\"zerolinewidth\":2},\"scene\":{\"xaxis\":{\"backgroundcolor\":\"#E5ECF6\",\"gridcolor\":\"white\",\"linecolor\":\"white\",\"showbackground\":true,\"ticks\":\"\",\"zerolinecolor\":\"white\",\"gridwidth\":2},\"yaxis\":{\"backgroundcolor\":\"#E5ECF6\",\"gridcolor\":\"white\",\"linecolor\":\"white\",\"showbackground\":true,\"ticks\":\"\",\"zerolinecolor\":\"white\",\"gridwidth\":2},\"zaxis\":{\"backgroundcolor\":\"#E5ECF6\",\"gridcolor\":\"white\",\"linecolor\":\"white\",\"showbackground\":true,\"ticks\":\"\",\"zerolinecolor\":\"white\",\"gridwidth\":2}},\"shapedefaults\":{\"line\":{\"color\":\"#2a3f5f\"}},\"annotationdefaults\":{\"arrowcolor\":\"#2a3f5f\",\"arrowhead\":0,\"arrowwidth\":1},\"geo\":{\"bgcolor\":\"white\",\"landcolor\":\"#E5ECF6\",\"subunitcolor\":\"white\",\"showland\":true,\"showlakes\":true,\"lakecolor\":\"white\"},\"title\":{\"x\":0.05},\"mapbox\":{\"style\":\"light\"}}},\"xaxis\":{\"anchor\":\"y\",\"domain\":[0.0,1.0],\"title\":{\"text\":\"Condition\"},\"categoryorder\":\"array\",\"categoryarray\":[\"Diabetes Mellitus, Type 2\",\"Breast Neoplasms\",\"Pulmonary Disease, Chronic Obstructive\",\"Hypertension\",\"Asthma\",\"Arthritis, Rheumatoid\",\"Influenza, Human\",\"Schizophrenia\",\"Diabetes Mellitus\",\"Alzheimer Disease\",\"Lung Neoplasms\",\"Hepatitis\",\"Psoriasis\",\"HIV Infections\",\"Hypercholesterolemia\",\"Multiple Myeloma\",\"Prostatic Neoplasms\",\"Hepatitis B\",\"Infection\",\"Colorectal Neoplasms\"]},\"yaxis\":{\"anchor\":\"x\",\"domain\":[0.0,1.0],\"title\":{\"text\":\"Number of Trials\"}},\"legend\":{\"title\":{\"text\":\"Condition\"},\"tracegroupgap\":0},\"title\":{\"text\":\"Top 20 Conditions by Number of Trials\"},\"barmode\":\"relative\",\"showlegend\":false},                        {\"responsive\": true}                    ).then(function(){\n",
       "                            \n",
       "var gd = document.getElementById('a6f3ff83-bcb6-494c-b4b6-c0366e54d2ed');\n",
       "var x = new MutationObserver(function (mutations, observer) {{\n",
       "        var display = window.getComputedStyle(gd).display;\n",
       "        if (!display || display === 'none') {{\n",
       "            console.log([gd, 'removed!']);\n",
       "            Plotly.purge(gd);\n",
       "            observer.disconnect();\n",
       "        }}\n",
       "}});\n",
       "\n",
       "// Listen for the removal of the full notebook cells\n",
       "var notebookContainer = gd.closest('#notebook-container');\n",
       "if (notebookContainer) {{\n",
       "    x.observe(notebookContainer, {childList: true});\n",
       "}}\n",
       "\n",
       "// Listen for the clearing of the current output cell\n",
       "var outputEl = gd.closest('.output');\n",
       "if (outputEl) {{\n",
       "    x.observe(outputEl, {childList: true});\n",
       "}}\n",
       "\n",
       "                        })                };            </script>        </div>"
      ]
     },
     "metadata": {},
     "output_type": "display_data"
    }
   ],
   "source": [
    "import pandas as pd\n",
    "import plotly.express as px\n",
    "\n",
    "# Count number of trials per condition\n",
    "cond_summary = trials[\"Condition\"].value_counts().reset_index()\n",
    "cond_summary.columns = [\"Condition\", \"Count\"]\n",
    "\n",
    "# Keep only top 10 conditions\n",
    "cond_top20 = cond_summary.head(20)\n",
    "\n",
    "# Bar chart\n",
    "fig = px.bar(\n",
    "    cond_top20,\n",
    "    x=\"Condition\",\n",
    "    y=\"Count\",\n",
    "    title=\"Top 20 Conditions by Number of Trials\",\n",
    "    color=\"Condition\",\n",
    "    color_discrete_sequence=px.colors.qualitative.Set2\n",
    ")\n",
    "\n",
    "fig.update_layout(\n",
    "    xaxis_title=\"Condition\",\n",
    "    yaxis_title=\"Number of Trials\",\n",
    "    showlegend=False\n",
    ")\n",
    "\n",
    "fig.show()\n"
   ]
  },
  {
   "cell_type": "code",
   "execution_count": null,
   "id": "1b649e47-a04f-4416-95a1-20c04e27779f",
   "metadata": {},
   "outputs": [],
   "source": []
  }
 ],
 "metadata": {
  "kernelspec": {
   "display_name": "Python 3",
   "language": "python",
   "name": "python3"
  },
  "language_info": {
   "codemirror_mode": {
    "name": "ipython",
    "version": 3
   },
   "file_extension": ".py",
   "mimetype": "text/x-python",
   "name": "python",
   "nbconvert_exporter": "python",
   "pygments_lexer": "ipython3",
   "version": "3.8.8"
  }
 },
 "nbformat": 4,
 "nbformat_minor": 5
}
