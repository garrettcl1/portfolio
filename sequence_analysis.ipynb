{
  "cells": [
    {
      "cell_type": "markdown",
      "metadata": {
        "id": "view-in-github",
        "colab_type": "text"
      },
      "source": [
        "<a href=\"https://colab.research.google.com/github/garrettcl1/portfolio/blob/main/sequence_analysis.ipynb\" target=\"_parent\"><img src=\"https://colab.research.google.com/assets/colab-badge.svg\" alt=\"Open In Colab\"/></a>"
      ]
    },
    {
      "cell_type": "markdown",
      "metadata": {
        "id": "1hYvOzu3iDyV"
      },
      "source": [
        "# Overview \n",
        "\n",
        "In this lab, you will use your Python skills to analyze the SARS-CoV-2 genome\n",
        "in various ways.\n",
        " \n",
        "We will be using the RefSeq genome sequence from NCBI\n",
        "(https://www.ncbi.nlm.nih.gov/nuccore/NC_045512). For the lab, you will\n",
        "use a few techniques (string manipulation, dictionaries, plotting) that are (as\n",
        "you will see throughout the course) very useful in biological sequence analysis.\n",
        "\n",
        "As with any coding questions, Google and Python documentation are your\n",
        "friend! Like always, make sure to clone your Github repo to Datahub, document all your steps and answer all questions using Markdown sections in your\n",
        "Jupyter notebook, and display all plots inline.\n",
        "\n",
        "## Submission checklist\n",
        "\n",
        "- Commit notebook on DataHub and push to GitHub\n",
        "- Make sure `lab-2-username` repository contains changes on GitHub (GSIs can see your private repos)"
      ]
    },
    {
      "cell_type": "markdown",
      "metadata": {
        "id": "F84voqHkiDyX"
      },
      "source": [
        "# Read data"
      ]
    },
    {
      "cell_type": "markdown",
      "metadata": {
        "id": "nnzBTVMiiDyY"
      },
      "source": [
        "First, let's read the genome fasta file using Biopython, and store the genome as a\n",
        "Python string. Similarly, let's read the transcriptome fasta file, and store the\n",
        "transcriptome as a list of strings. Be sure that you are working with native\n",
        "python strings and lists, not Biopython Seq objects. You are not allowed to use any BioPython function from now onwards."
      ]
    },
    {
      "cell_type": "code",
      "execution_count": null,
      "metadata": {
        "id": "V4vQbMngiDyZ",
        "outputId": "9a685847-bd0f-408c-96fd-54cead0afd79"
      },
      "outputs": [
        {
          "name": "stdout",
          "output_type": "stream",
          "text": [
            "Collecting package metadata (current_repodata.json): ...working... done\n",
            "Solving environment: ...working... done\n",
            "\n",
            "## Package Plan ##\n",
            "\n",
            "  environment location: /opt/conda\n",
            "\n",
            "  added / updated specs:\n",
            "    - biopython\n",
            "\n",
            "\n",
            "The following packages will be downloaded:\n",
            "\n",
            "    package                    |            build\n",
            "    ---------------------------|-----------------\n",
            "    biopython-1.79             |   py39hb9d737c_2         2.6 MB  conda-forge\n",
            "    ca-certificates-2022.6.15.1|       ha878542_0         150 KB  conda-forge\n",
            "    certifi-2022.6.15.1        |     pyhd8ed1ab_0         155 KB  conda-forge\n",
            "    ------------------------------------------------------------\n",
            "                                           Total:         2.9 MB\n",
            "\n",
            "The following NEW packages will be INSTALLED:\n",
            "\n",
            "  biopython          conda-forge/linux-64::biopython-1.79-py39hb9d737c_2\n",
            "\n",
            "The following packages will be UPDATED:\n",
            "\n",
            "  ca-certificates                      2021.10.8-ha878542_0 --> 2022.6.15.1-ha878542_0\n",
            "  certifi            conda-forge/linux-64::certifi-2021.10~ --> conda-forge/noarch::certifi-2022.6.15.1-pyhd8ed1ab_0\n",
            "\n",
            "\n",
            "Preparing transaction: ...working... done\n",
            "Verifying transaction: ...working... done\n",
            "Executing transaction: ...working... done\n"
          ]
        }
      ],
      "source": [
        "!conda install -y -q -c conda-forge biopython\n",
        "from Bio import SeqIO\n",
        "genome = str(next(SeqIO.parse(\"sequence.fa\", \"fasta\")).seq)\n",
        "\n",
        "transcriptome = []\n",
        "for seq_rec in SeqIO.parse(\"transcriptome.fa\", \"fasta\"):\n",
        "    transcriptome.append(str(seq_rec.seq))\n",
        "\n",
        "\n",
        "\n",
        "\n"
      ]
    },
    {
      "cell_type": "markdown",
      "metadata": {
        "id": "4fSfoTVBiDyb"
      },
      "source": [
        "# Conversion"
      ]
    },
    {
      "cell_type": "markdown",
      "metadata": {
        "id": "mrweuzP_iDyb"
      },
      "source": [
        "The genome on the RefSeq database is the cDNA version of the genome,\n",
        "but SARS-CoV-2 is an RNA virus! Convert the genome into an RNA\n",
        "string. Print the first 100 bp."
      ]
    },
    {
      "cell_type": "code",
      "execution_count": null,
      "metadata": {
        "id": "1ffzIrq7iDyc",
        "outputId": "30575e7a-a34f-4f61-c7cc-3377af9b6edf"
      },
      "outputs": [
        {
          "name": "stdout",
          "output_type": "stream",
          "text": [
            "AUUAAAGGUUUAUACCUUCCCAGGUAACAAACCAACCAACUUUCGAUCUCUUGUAGAUCUGUUCUCUAAACGAACUUUAAAAUCUGUGUGGCUGUCACU\n"
          ]
        }
      ],
      "source": [
        "genome_rna = genome.replace(\"T\",\"U\")\n",
        "print(genome_rna[:99])"
      ]
    },
    {
      "cell_type": "markdown",
      "metadata": {
        "id": "Rf33Fuc5iDyd"
      },
      "source": [
        "The SARS-CoV-2 genome is positive stranded. Convert the genome into\n",
        "a negative strand sequence by computing the reverse complement. Print\n",
        "the first 100 bp of the reverse complement sequence."
      ]
    },
    {
      "cell_type": "code",
      "execution_count": null,
      "metadata": {
        "id": "ORZKmNdmiDyf",
        "outputId": "45cc2926-f915-4ab1-f831-374347131f55"
      },
      "outputs": [
        {
          "name": "stdout",
          "output_type": "stream",
          "text": [
            "UUUUUUUUUUUUUUUUUUUUUUUUUUUUUUUUUGUCAUUCUCCUAAGAAGCUAUUAAAAUCACAUGGGGAUAGCACUACUAAAAUUAAUUUUACACAUU\n"
          ]
        }
      ],
      "source": [
        "old_chars = \"ACGU\"\n",
        "replace_chars = \"UGCA\"\n",
        "tab = genome_rna.maketrans(old_chars,replace_chars)\n",
        "reverse_complement = genome_rna.translate(tab)[::-1]\n",
        "print(reverse_complement[:99])"
      ]
    },
    {
      "cell_type": "markdown",
      "metadata": {
        "id": "l8971A8-iDyg"
      },
      "source": [
        "# $k$-mer analysis"
      ]
    },
    {
      "cell_type": "markdown",
      "metadata": {
        "id": "GHuWsB3AiDyh"
      },
      "source": [
        "## Part 1\n",
        "\n",
        "What does a $k$-mer represent?"
      ]
    },
    {
      "cell_type": "markdown",
      "metadata": {
        "id": "D9APYgE4iDyh"
      },
      "source": [
        "### Answer"
      ]
    },
    {
      "cell_type": "markdown",
      "metadata": {
        "id": "iGID8nZniDyi"
      },
      "source": [
        "A k-mer is a substring of length k within a sequence."
      ]
    },
    {
      "cell_type": "markdown",
      "metadata": {
        "id": "UVzmvU7AiDyi"
      },
      "source": [
        "## Part 2\n",
        "\n",
        "Build two dictionaries of $k$-mer frequencies, one for $k=3$ (use `threemers` as variable name) and one for $k=4$ (respectively, `fourmers`). In each dictionary, the keys should be every possible k-mer of the given length and the corresponding values should be the number of times that k-mer occurs in the SARS-CoV-2 genome. To find the $k$-mers, scan along the sequence with a window size of $k$ and a stride of 1.\n",
        "\n",
        "Note: Use the negative strand sequence to compute $k$-mer frequencies\n",
        "\n",
        "Example for k=3:  \n",
        "String: \"ACTGACT\"  \n",
        "```\n",
        "threemers = {\"ACT\": 2,   \n",
        "             \"CTG: 1,  \n",
        "             \"TGA\": 1,  \n",
        "             \"GAC\": 1,  \n",
        "             ...}\n",
        "```"
      ]
    },
    {
      "cell_type": "code",
      "execution_count": null,
      "metadata": {
        "id": "ByfzNkBYiDyj",
        "outputId": "a6ee01d7-6300-4a58-d300-3b84890f425e"
      },
      "outputs": [
        {
          "data": {
            "text/plain": [
              "{'UUUU': 281,\n",
              " 'UUUG': 213,\n",
              " 'UUGU': 285,\n",
              " 'UGUC': 158,\n",
              " 'GUCA': 137,\n",
              " 'UCAU': 187,\n",
              " 'CAUU': 234,\n",
              " 'AUUC': 122,\n",
              " 'UUCU': 205,\n",
              " 'UCUC': 80,\n",
              " 'CUCC': 63,\n",
              " 'UCCU': 90,\n",
              " 'CCUA': 59,\n",
              " 'CUAA': 129,\n",
              " 'UAAG': 189,\n",
              " 'AAGA': 213,\n",
              " 'AGAA': 216,\n",
              " 'GAAG': 131,\n",
              " 'AAGC': 164,\n",
              " 'AGCU': 145,\n",
              " 'GCUA': 81,\n",
              " 'CUAU': 91,\n",
              " 'UAUU': 144,\n",
              " 'AUUA': 218,\n",
              " 'UUAA': 259,\n",
              " 'UAAA': 289,\n",
              " 'AAAA': 299,\n",
              " 'AAAU': 232,\n",
              " 'AAUC': 129,\n",
              " 'AUCA': 208,\n",
              " 'UCAC': 135,\n",
              " 'CACA': 187,\n",
              " 'ACAU': 210,\n",
              " 'CAUG': 121,\n",
              " 'AUGG': 84,\n",
              " 'UGGG': 39,\n",
              " 'GGGG': 14,\n",
              " 'GGGA': 29,\n",
              " 'GGAU': 51,\n",
              " 'GAUA': 76,\n",
              " 'AUAG': 170,\n",
              " 'UAGC': 139,\n",
              " 'AGCA': 255,\n",
              " 'GCAC': 113,\n",
              " 'CACU': 146,\n",
              " 'ACUA': 138,\n",
              " 'CUAC': 118,\n",
              " 'UACU': 107,\n",
              " 'AAUU': 274,\n",
              " 'UAAU': 219,\n",
              " 'AUUU': 245,\n",
              " 'UUUA': 263,\n",
              " 'UUAC': 126,\n",
              " 'UACA': 200,\n",
              " 'ACAC': 190,\n",
              " 'UUAG': 174,\n",
              " 'UAGG': 105,\n",
              " 'AGGG': 50,\n",
              " 'GGGC': 17,\n",
              " 'GGCU': 48,\n",
              " 'GCUC': 54,\n",
              " 'CUCU': 132,\n",
              " 'UCUU': 209,\n",
              " 'CUUC': 152,\n",
              " 'UUCC': 99,\n",
              " 'UCCA': 143,\n",
              " 'CCAU': 175,\n",
              " 'CAUA': 200,\n",
              " 'AUAU': 111,\n",
              " 'UAUA': 138,\n",
              " 'AGGC': 75,\n",
              " 'GGCA': 94,\n",
              " 'GCAG': 112,\n",
              " 'CAGC': 164,\n",
              " 'UCCC': 33,\n",
              " 'CCCU': 53,\n",
              " 'CUAG': 89,\n",
              " 'GCAU': 153,\n",
              " 'AUUG': 176,\n",
              " 'UGUU': 256,\n",
              " 'GUUC': 95,\n",
              " 'UUCA': 195,\n",
              " 'ACUG': 115,\n",
              " 'CUGU': 161,\n",
              " 'UGUA': 239,\n",
              " 'GUAC': 131,\n",
              " 'ACUC': 98,\n",
              " 'CUCG': 12,\n",
              " 'UCGA': 22,\n",
              " 'CGAU': 21,\n",
              " 'GAUC': 60,\n",
              " 'AUCG': 32,\n",
              " 'UCGU': 36,\n",
              " 'CGUA': 49,\n",
              " 'UCCG': 16,\n",
              " 'CCGC': 14,\n",
              " 'CGCG': 13,\n",
              " 'GCGU': 34,\n",
              " 'CGUG': 41,\n",
              " 'GUGG': 82,\n",
              " 'UGGC': 78,\n",
              " 'GGCC': 32,\n",
              " 'GCCU': 61,\n",
              " 'CCUC': 65,\n",
              " 'UCGG': 17,\n",
              " 'CGGU': 29,\n",
              " 'GGUG': 99,\n",
              " 'GUGA': 111,\n",
              " 'UGAA': 183,\n",
              " 'GAAA': 159,\n",
              " 'AAUG': 161,\n",
              " 'AUGU': 195,\n",
              " 'UGUG': 156,\n",
              " 'UGGU': 151,\n",
              " 'CUUU': 205,\n",
              " 'UUUC': 166,\n",
              " 'UCAA': 191,\n",
              " 'CAAG': 168,\n",
              " 'AAGU': 243,\n",
              " 'AGUC': 98,\n",
              " 'GUCC': 70,\n",
              " 'GUUA': 135,\n",
              " 'CUGA': 116,\n",
              " 'UGAU': 137,\n",
              " 'GAUU': 109,\n",
              " 'AAAG': 250,\n",
              " 'AGAU': 130,\n",
              " 'UUGC': 115,\n",
              " 'UGCU': 86,\n",
              " 'UAUG': 108,\n",
              " 'UGAG': 131,\n",
              " 'GAGA': 78,\n",
              " 'AGUU': 199,\n",
              " 'UAAC': 179,\n",
              " 'AACU': 178,\n",
              " 'CAUC': 170,\n",
              " 'AUCU': 150,\n",
              " 'UCUA': 149,\n",
              " 'ACUU': 156,\n",
              " 'CUUG': 120,\n",
              " 'GUGC': 98,\n",
              " 'GUAG': 128,\n",
              " 'UAGU': 173,\n",
              " 'UACG': 41,\n",
              " 'ACGA': 43,\n",
              " 'CGAG': 32,\n",
              " 'GAAU': 133,\n",
              " 'UCUG': 167,\n",
              " 'CUGC': 81,\n",
              " 'UGCA': 164,\n",
              " 'ACAA': 292,\n",
              " 'AGAG': 93,\n",
              " 'GAGU': 101,\n",
              " 'AGUA': 214,\n",
              " 'UAGA': 144,\n",
              " 'AGAC': 103,\n",
              " 'GACU': 76,\n",
              " 'UAUC': 81,\n",
              " 'GUAA': 241,\n",
              " 'AAAC': 223,\n",
              " 'AACG': 45,\n",
              " 'ACGG': 27,\n",
              " 'CGGA': 15,\n",
              " 'GGAA': 80,\n",
              " 'AGCG': 28,\n",
              " 'GCGA': 26,\n",
              " 'CGAA': 39,\n",
              " 'ACGU': 64,\n",
              " 'CGUU': 45,\n",
              " 'GUUU': 191,\n",
              " 'UUAU': 160,\n",
              " 'AGCC': 93,\n",
              " 'GCCC': 31,\n",
              " 'CCCA': 56,\n",
              " 'UGCC': 79,\n",
              " 'CCUU': 120,\n",
              " 'GUGU': 168,\n",
              " 'GGUC': 55,\n",
              " 'GUCU': 118,\n",
              " 'AUGA': 127,\n",
              " 'CCUG': 85,\n",
              " 'GUUG': 194,\n",
              " 'UUGA': 195,\n",
              " 'UCAG': 117,\n",
              " 'CUCA': 90,\n",
              " 'UGGA': 86,\n",
              " 'GCAA': 169,\n",
              " 'CAAU': 189,\n",
              " 'UUGG': 108,\n",
              " 'GGAG': 31,\n",
              " 'AUCC': 50,\n",
              " 'CCAA': 165,\n",
              " 'CAAA': 257,\n",
              " 'CAGG': 67,\n",
              " 'AGGA': 79,\n",
              " 'ACAG': 166,\n",
              " 'CAGU': 157,\n",
              " 'GCUG': 71,\n",
              " 'UGCG': 43,\n",
              " 'GCGG': 20,\n",
              " 'GGUA': 107,\n",
              " 'AAGG': 118,\n",
              " 'GCUU': 95,\n",
              " 'GUAU': 109,\n",
              " 'AUGC': 78,\n",
              " 'CGUC': 29,\n",
              " 'AAUA': 208,\n",
              " 'CUUA': 103,\n",
              " 'UGAC': 98,\n",
              " 'GAUG': 94,\n",
              " 'CACC': 157,\n",
              " 'ACCU': 125,\n",
              " 'AGGU': 140,\n",
              " 'CAAC': 203,\n",
              " 'AACC': 147,\n",
              " 'ACCA': 245,\n",
              " 'CCAC': 114,\n",
              " 'CACG': 62,\n",
              " 'CCCG': 10,\n",
              " 'CCGA': 22,\n",
              " 'GCCA': 110,\n",
              " 'GCGC': 17,\n",
              " 'CGAC': 21,\n",
              " 'GACA': 141,\n",
              " 'GAAC': 95,\n",
              " 'ACGC': 37,\n",
              " 'CGCU': 22,\n",
              " 'CUGG': 80,\n",
              " 'CGGC': 17,\n",
              " 'CCCC': 15,\n",
              " 'GGGU': 56,\n",
              " 'GGUU': 115,\n",
              " 'GGAC': 47,\n",
              " 'GACC': 29,\n",
              " 'GCCG': 21,\n",
              " 'AGUG': 163,\n",
              " 'GAGG': 54,\n",
              " 'CAGA': 107,\n",
              " 'UACC': 121,\n",
              " 'CCAG': 100,\n",
              " 'GAGC': 54,\n",
              " 'ACCG': 29,\n",
              " 'CGCC': 19,\n",
              " 'CGGG': 13,\n",
              " 'ACCC': 55,\n",
              " 'CCGU': 30,\n",
              " 'AUAC': 94,\n",
              " 'UUCG': 36,\n",
              " 'GACG': 23,\n",
              " 'CGCA': 34,\n",
              " 'UCGC': 20,\n",
              " 'AACA': 330,\n",
              " 'AUAA': 247,\n",
              " 'GGCG': 13,\n",
              " 'CCGG': 10,\n",
              " 'GUCG': 15}"
            ]
          },
          "execution_count": 18,
          "metadata": {},
          "output_type": "execute_result"
        }
      ],
      "source": [
        "threemers = {}\n",
        "start = 0\n",
        "for i in range(3, len(reverse_complement)):\n",
        "    three_letters = reverse_complement[start:i]\n",
        "    if three_letters not in threemers:\n",
        "        threemers[three_letters] = 0\n",
        "    threemers[three_letters] += 1\n",
        "    start += 1 \n",
        "last_sequence = reverse_complement[len(reverse_complement)-3:]\n",
        "threemers[last_sequence] += 1\n",
        "\n",
        "start = 0\n",
        "fourmers = {}\n",
        "for i in range(4, len(reverse_complement)):\n",
        "    four_letters = reverse_complement[start:i]\n",
        "    if four_letters not in fourmers:\n",
        "        fourmers[four_letters] = 0\n",
        "    fourmers[four_letters] += 1\n",
        "    start += 1 \n",
        "    \n",
        "last_sequence = reverse_complement[len(reverse_complement)-4:]\n",
        "fourmers[last_sequence] += 1\n",
        "fourmers"
      ]
    },
    {
      "cell_type": "markdown",
      "metadata": {
        "id": "b1o1Nr5FiDyk"
      },
      "source": [
        "## Part 3\n",
        "\n",
        "Plot a bar graph of the frequency of each 4-mer. Include only the 50 most\n",
        "frequent 4-mers, and sort the bars in the plot by frequency (most frequent\n",
        "→ least frequent)."
      ]
    },
    {
      "cell_type": "code",
      "execution_count": null,
      "metadata": {
        "id": "zYYzHPnYiDyl",
        "outputId": "6be5eee9-22a2-4fa8-deaf-83b57a928ee9"
      },
      "outputs": [
        {
          "data": {
            "image/png": "[encoded data removed]",
            "text/plain": [
              "<Figure size 640x480 with 1 Axes>"
            ]
          },
          "metadata": {},
          "output_type": "display_data"
        }
      ],
      "source": [
        "# code here and plot inline\n",
        "import matplotlib.pyplot as plt\n",
        "from operator import itemgetter\n",
        "\n",
        "\n",
        "fig = plt.figure()\n",
        "ax = fig.add_axes([0,0,1,1])\n",
        "\n",
        "top_50 = dict(sorted(fourmers.items(), key = itemgetter(1), reverse = True)[:50])\n",
        "letters = list(top_50.keys())\n",
        "counts = list(top_50.values())\n",
        "ax.bar(letters,counts)\n",
        "plt.show()"
      ]
    },
    {
      "cell_type": "markdown",
      "metadata": {
        "id": "Smq8a4tuiDym"
      },
      "source": [
        "## Part 4\n",
        "\n",
        "Plot the frequency of all 64 3-mers, similarly sorted by\n",
        "frequency."
      ]
    },
    {
      "cell_type": "code",
      "execution_count": null,
      "metadata": {
        "id": "tCdMg7zxiDyn",
        "outputId": "b5b6dd69-4fde-4d56-e8b0-3ceb35117312"
      },
      "outputs": [
        {
          "data": {
            "image/png": "[encoded data removed]",
            "text/plain": [
              "<Figure size 640x480 with 1 Axes>"
            ]
          },
          "metadata": {},
          "output_type": "display_data"
        }
      ],
      "source": [
        "# code here and plot inline\n",
        "\n",
        "fig = plt.figure()\n",
        "ax = fig.add_axes([0,0,1,1])\n",
        "\n",
        "top_50 = dict(sorted(threemers.items(), key = itemgetter(1), reverse = True)[:50])\n",
        "letters = list(top_50.keys())\n",
        "counts = list(top_50.values())\n",
        "ax.bar(letters,counts)\n",
        "plt.show()"
      ]
    }
  ],
  "metadata": {
    "kernelspec": {
      "display_name": "Python 3 (ipykernel)",
      "language": "python",
      "name": "python3"
    },
    "language_info": {
      "codemirror_mode": {
        "name": "ipython",
        "version": 3
      },
      "file_extension": ".py",
      "mimetype": "text/x-python",
      "name": "python",
      "nbconvert_exporter": "python",
      "pygments_lexer": "ipython3",
      "version": "3.9.15"
    },
    "colab": {
      "provenance": [],
      "include_colab_link": true
    }
  },
  "nbformat": 4,
  "nbformat_minor": 0
}